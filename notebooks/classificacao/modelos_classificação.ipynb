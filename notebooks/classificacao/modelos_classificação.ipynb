{
 "cells": [
  {
   "cell_type": "code",
   "execution_count": 1,
   "id": "fe30a14d-cd32-480a-9251-649ce2ea34e2",
   "metadata": {},
   "outputs": [],
   "source": [
    "# Algoritmos: KNN, Decision Tree, Random Forest e Logistic Regression\n",
    "\n",
    "# Métricas de performance: Accuracy, Precision, Recall e F1-Score\n",
    "\n",
    "# Parâmetros\n",
    "    # Random Forest Classifier: n_estimators, max_depth\n",
    "\n",
    "    # K-Neighbors Classifier: n_neighbors\n",
    "\n",
    "    # Logistic Regression: C, solver, max_iter\n",
    "\n",
    "    # Decision Tree Classifier max_depth"
   ]
  },
  {
   "cell_type": "markdown",
   "id": "8484f204-53f8-423b-bbe8-399110086114",
   "metadata": {
    "jp-MarkdownHeadingCollapsed": true
   },
   "source": [
    "# 0.0 Imports"
   ]
  },
  {
   "cell_type": "code",
   "execution_count": 3,
   "id": "89cc45db-f38c-4125-a1c0-c5f3f61f1034",
   "metadata": {},
   "outputs": [],
   "source": [
    "import pandas as pd\n",
    "import numpy as np\n",
    "\n",
    "from matplotlib        import pyplot                 as plt\n",
    "\n",
    "from sklearn.neighbors import KNeighborsClassifier   as knn\n",
    "from sklearn.tree      import DecisionTreeClassifier as tree\n",
    "from sklearn           import metrics                as mt\n",
    "from sklearn           import ensemble               as en\n",
    "from sklearn           import linear_model           as lm"
   ]
  },
  {
   "cell_type": "markdown",
   "id": "b0b672a8-bf40-4718-ac5f-a7f1c05aea7d",
   "metadata": {},
   "source": [
    "# 1.0 Load datasets"
   ]
  },
  {
   "cell_type": "code",
   "execution_count": 5,
   "id": "d41e80c3-e917-4cc8-80a7-cc34446545b6",
   "metadata": {},
   "outputs": [],
   "source": [
    "df =      pd.read_csv('../datasets/dados_classificacao/X_training.csv')\n",
    "y_train = pd.read_csv('../datasets/dados_classificacao/y_training.csv')\n",
    "df_val =  pd.read_csv('../datasets/dados_classificacao/X_validation.csv')\n",
    "y_val =   pd.read_csv('../datasets/dados_classificacao/y_validation.csv')\n",
    "df_test = pd.read_csv('../datasets/dados_classificacao/X_test.csv')\n",
    "y_test =  pd.read_csv('../datasets/dados_classificacao/y_test.csv')"
   ]
  },
  {
   "cell_type": "code",
   "execution_count": 6,
   "id": "7a9fdd11-74af-4e7c-98b1-a8d51a9b4a1a",
   "metadata": {},
   "outputs": [],
   "source": [
    "colunas = [ 'customer_type', 'age', 'class', 'flight_distance',\n",
    "       'inflight_wifi_service', 'departure_arrival_time_convenient',\n",
    "       'ease_of_online_booking', 'gate_location', 'food_and_drink',\n",
    "       'online_boarding', 'seat_comfort', 'inflight_entertainment',\n",
    "       'on_board_service', 'leg_room_service', 'baggage_handling',\n",
    "       'checkin_service', 'inflight_service', 'cleanliness',\n",
    "       'departure_delay_in_minutes', 'arrival_delay_in_minutes',\n",
    "       'gender_Female', 'gender_Male', 'type_of_travel_business_travel',\n",
    "       'type_of_travel_personal_travel']\n",
    "x_train = df.loc[:,colunas]\n",
    "x_val = df_val.loc[:,colunas]\n",
    "x_test = df_test.loc[:,colunas]"
   ]
  },
  {
   "cell_type": "code",
   "execution_count": 7,
   "id": "9c7f9925-8244-475f-ae5f-39789cf42e17",
   "metadata": {},
   "outputs": [
    {
     "data": {
      "text/html": [
       "<div>\n",
       "<style scoped>\n",
       "    .dataframe tbody tr th:only-of-type {\n",
       "        vertical-align: middle;\n",
       "    }\n",
       "\n",
       "    .dataframe tbody tr th {\n",
       "        vertical-align: top;\n",
       "    }\n",
       "\n",
       "    .dataframe thead th {\n",
       "        text-align: right;\n",
       "    }\n",
       "</style>\n",
       "<table border=\"1\" class=\"dataframe\">\n",
       "  <thead>\n",
       "    <tr style=\"text-align: right;\">\n",
       "      <th></th>\n",
       "      <th>Algoritmo</th>\n",
       "      <th>Accuracy</th>\n",
       "      <th>Recall</th>\n",
       "      <th>Precision</th>\n",
       "    </tr>\n",
       "  </thead>\n",
       "  <tbody>\n",
       "  </tbody>\n",
       "</table>\n",
       "</div>"
      ],
      "text/plain": [
       "Empty DataFrame\n",
       "Columns: [Algoritmo, Accuracy, Recall, Precision]\n",
       "Index: []"
      ]
     },
     "execution_count": 7,
     "metadata": {},
     "output_type": "execute_result"
    }
   ],
   "source": [
    "df_dados_finais = pd.DataFrame({'Algoritmo': [], \n",
    "                                'Accuracy': [], \n",
    "                                'Recall': [],\n",
    "                                'Precision': []})\n",
    "df_dados_finais"
   ]
  },
  {
   "cell_type": "markdown",
   "id": "f84d9f3d-b161-4b48-a416-f70d706eee59",
   "metadata": {
    "jp-MarkdownHeadingCollapsed": true
   },
   "source": [
    "# def cria tabela"
   ]
  },
  {
   "cell_type": "code",
   "execution_count": 9,
   "id": "3685a2e6-e719-4dea-89fe-9f2f6b39c651",
   "metadata": {},
   "outputs": [],
   "source": [
    "\n",
    "nome_algoritmo = ['KNN', 'Decision Tree', 'Random Forest', 'Logistic Regression']\n",
    "resultado_acuracia = [0]*4\n",
    "resultado_precision = [0]*4\n",
    "resultado_recall = [0]*4\n",
    "resultado_f1=[0]*4\n"
   ]
  },
  {
   "cell_type": "code",
   "execution_count": 10,
   "id": "ecc0b180-4429-4dba-8e66-f818767a6966",
   "metadata": {},
   "outputs": [],
   "source": [
    "def tabela_performance(df, n, y, y_pred):\n",
    "    #performance\n",
    "    acuracia = mt.accuracy_score(y, y_pred)\n",
    "    precision = mt.precision_score(y, y_pred)\n",
    "    recall = mt.recall_score(y, y_pred, average='binary', pos_label=1)\n",
    "    f1 = mt.f1_score(y, y_pred, average='binary', pos_label=1)\n",
    "\n",
    "\n",
    "    #atualizando lista\n",
    "    resultado_acuracia[n] = np.round(acuracia,4)\n",
    "    resultado_precision[n] = np.round(precision, 4)\n",
    "    resultado_recall[n] = np.round(recall, 4) \n",
    "    resultado_f1[n]= np.round(f1, 4)\n",
    "    df = {\"Algoritmo\": nome_algoritmo,\n",
    "         \"Acuracia\": resultado_acuracia,\n",
    "         \"Precision\": resultado_precision,\n",
    "         \"F1_score\": resultado_f1}\n",
    "    df = pd.DataFrame(df)\n",
    "    return df"
   ]
  },
  {
   "cell_type": "markdown",
   "id": "ffb2cfae-5566-4f7b-9c4a-7217c84e2c5c",
   "metadata": {
    "jp-MarkdownHeadingCollapsed": true
   },
   "source": [
    "# Resultado com dados de treino"
   ]
  },
  {
   "cell_type": "markdown",
   "id": "1b9829bb-5b65-4c27-8bbc-e0d4873e27ec",
   "metadata": {
    "jp-MarkdownHeadingCollapsed": true
   },
   "source": [
    "### KNN com dados de treino"
   ]
  },
  {
   "cell_type": "code",
   "execution_count": 13,
   "id": "0f511585-3e30-4ed3-b027-07f0624e3b2d",
   "metadata": {},
   "outputs": [],
   "source": [
    "# Definition\n",
    "modelo_knn = knn()\n",
    "\n",
    "# fit \n",
    "modelo_knn.fit(x_train, y_train['0'])\n",
    "\n",
    "# predict \n",
    "y_pred = modelo_knn.predict(x_train)\n",
    "\n",
    "# performance\n",
    "df_treino = {}\n",
    "df_treino = tabela_performance(df_treino, 0, y_train, y_pred)  \n"
   ]
  },
  {
   "cell_type": "markdown",
   "id": "d90c69e6-0f5a-42b6-918a-ccf8bbc32a0a",
   "metadata": {
    "jp-MarkdownHeadingCollapsed": true
   },
   "source": [
    "### Decision Treecom dados de treino"
   ]
  },
  {
   "cell_type": "code",
   "execution_count": 15,
   "id": "ffba22f5-fd3f-4e2e-b862-0a5d20080211",
   "metadata": {},
   "outputs": [],
   "source": [
    "# definition\n",
    "modelo_tree = tree()\n",
    "\n",
    "# fit \n",
    "modelo_tree.fit(x_train, y_train['0'])\n",
    "\n",
    "# predict\n",
    "y_pred = modelo_tree.predict(x_train)\n",
    "\n",
    "# performance \n",
    "df_treino = tabela_performance(df_treino, 1, y_train, y_pred) "
   ]
  },
  {
   "cell_type": "markdown",
   "id": "c685e58f-7067-45e5-b335-a84e40235647",
   "metadata": {
    "jp-MarkdownHeadingCollapsed": true
   },
   "source": [
    "### Random Forest com dados de treino"
   ]
  },
  {
   "cell_type": "code",
   "execution_count": 17,
   "id": "062e0ad6-ea34-4784-8eec-cade5ed86de1",
   "metadata": {},
   "outputs": [],
   "source": [
    "# definition\n",
    "model = en.RandomForestClassifier()\n",
    "\n",
    "# fit\n",
    "model.fit(x_train, y_train['0'])\n",
    "\n",
    "# performance \n",
    "y_pred = model.predict(x_train)\n",
    "\n",
    "# performance\n",
    "df_treino = tabela_performance(df_treino, 2, y_train, y_pred) "
   ]
  },
  {
   "cell_type": "markdown",
   "id": "05cb048f-f9d2-4846-8ded-9dfa66d756ee",
   "metadata": {
    "jp-MarkdownHeadingCollapsed": true
   },
   "source": [
    "### Logistic Regression com dados de treino"
   ]
  },
  {
   "cell_type": "code",
   "execution_count": 19,
   "id": "f54808d5-bcef-48ad-9d46-95b630eb13e1",
   "metadata": {},
   "outputs": [],
   "source": [
    "# definition\n",
    "model = lm.LogisticRegression()\n",
    "\n",
    "# fit\n",
    "model.fit(x_train, y_train['0'])\n",
    "\n",
    "# performance \n",
    "y_pred = model.predict(x_train)\n",
    "\n",
    "# performance\n",
    "df_treino = tabela_performance(df_treino, 3, y_train, y_pred) "
   ]
  },
  {
   "cell_type": "markdown",
   "id": "c00ddb92-7bcb-48fb-8687-0a9a0c828847",
   "metadata": {
    "jp-MarkdownHeadingCollapsed": true
   },
   "source": [
    "# Resultado com dados de validação"
   ]
  },
  {
   "cell_type": "markdown",
   "id": "6883ae76-c15a-44e1-8183-7f9edd5241dc",
   "metadata": {
    "jp-MarkdownHeadingCollapsed": true
   },
   "source": [
    "### KNN com dados de validação"
   ]
  },
  {
   "cell_type": "code",
   "execution_count": 22,
   "id": "0b8048e8-7c2e-4dd9-8335-e532e46e926c",
   "metadata": {},
   "outputs": [],
   "source": [
    "# Definition\n",
    "k = 5\n",
    "modelo_knn = knn(n_neighbors = k)\n",
    "\n",
    "# fit \n",
    "modelo_knn.fit(x_train, y_train['0'])\n",
    "\n",
    "# predict \n",
    "y_pred = modelo_knn.predict(x_val)\n",
    "# criação dataframe\n",
    "df_val = {}\n",
    "df_val = tabela_performance(df_val, 0, y_val, y_pred)"
   ]
  },
  {
   "cell_type": "markdown",
   "id": "95e82fcc-2a71-421a-b63d-96e516705782",
   "metadata": {
    "jp-MarkdownHeadingCollapsed": true
   },
   "source": [
    "### Decision Tree com dados de validação"
   ]
  },
  {
   "cell_type": "code",
   "execution_count": 24,
   "id": "dc5cb05d-ebe0-4023-b716-6e1a0047f375",
   "metadata": {},
   "outputs": [],
   "source": [
    "# definition\n",
    "modelo_tree = tree(max_depth = 14)\n",
    "\n",
    "# fit \n",
    "modelo_tree.fit(x_train, y_train['0'])\n",
    "\n",
    "# predict\n",
    "y_pred = modelo_tree.predict(x_val)\n",
    "\n",
    "# performance \n",
    "df_val = tabela_performance(df_val, 1, y_val, y_pred) "
   ]
  },
  {
   "cell_type": "markdown",
   "id": "4c45a6a5-37a8-4450-927c-ed5bdfe3223c",
   "metadata": {
    "jp-MarkdownHeadingCollapsed": true
   },
   "source": [
    "### Random Forest com dados de validação"
   ]
  },
  {
   "cell_type": "code",
   "execution_count": 26,
   "id": "922c6e60-b943-4127-b981-821d8d700cf9",
   "metadata": {},
   "outputs": [],
   "source": [
    "# definition\n",
    "model = en.RandomForestClassifier(n_estimators=50, max_depth=19)\n",
    "\n",
    "# fit\n",
    "model.fit(x_train, y_train['0'])\n",
    "\n",
    "# performance \n",
    "y_pred = model.predict(x_val)\n",
    "\n",
    "# performance\n",
    "df_val = tabela_performance(df_val, 2, y_val, y_pred) "
   ]
  },
  {
   "cell_type": "markdown",
   "id": "0c129190-a627-4d58-ab50-1bfad1f2b040",
   "metadata": {
    "jp-MarkdownHeadingCollapsed": true
   },
   "source": [
    "### Logistic Regression com dados de validaçõa"
   ]
  },
  {
   "cell_type": "code",
   "execution_count": 28,
   "id": "56676a25-fc26-45e0-a27b-819ba62d7fa2",
   "metadata": {},
   "outputs": [],
   "source": [
    "# definition\n",
    "model = lm.LogisticRegression(C= 1.0,max_iter = 50, solver = 'lbfgs')\n",
    "\n",
    "# fit\n",
    "model.fit(x_train, y_train['0'])\n",
    "\n",
    "# performance \n",
    "y_pred = model.predict(x_val)\n",
    "\n",
    "# performance\n",
    "df_val = tabela_performance(df_val, 3, y_val, y_pred) "
   ]
  },
  {
   "cell_type": "markdown",
   "id": "165c7e1a-3228-4596-b29b-6314f70f12f9",
   "metadata": {
    "jp-MarkdownHeadingCollapsed": true
   },
   "source": [
    "# Resultados com dados de teste e treinamento com dados de train e val"
   ]
  },
  {
   "cell_type": "markdown",
   "id": "39be71dd-8a71-4ce3-b90e-0411215e8ed7",
   "metadata": {
    "jp-MarkdownHeadingCollapsed": true
   },
   "source": [
    "### KNN com dados de teste"
   ]
  },
  {
   "cell_type": "code",
   "execution_count": 31,
   "id": "77761655-daa3-4c37-833a-89c017bf79bb",
   "metadata": {},
   "outputs": [],
   "source": [
    "x_final = pd.concat([x_train, x_val], ignore_index = True)\n",
    "y_final = pd.concat([y_train, y_val], ignore_index = True)"
   ]
  },
  {
   "cell_type": "code",
   "execution_count": 32,
   "id": "120c5486-dfd6-4c51-90d7-546a8bb172e4",
   "metadata": {},
   "outputs": [],
   "source": [
    "# Definition\n",
    "k = 5\n",
    "modelo_knn = knn(n_neighbors = k)\n",
    "\n",
    "# fit \n",
    "modelo_knn.fit(x_final, y_final['0'])\n",
    "\n",
    "# predict \n",
    "y_pred = modelo_knn.predict(x_test)\n",
    "# criação dataframe\n",
    "df_test = {}\n",
    "df_test = tabela_performance(df_test, 0, y_test, y_pred)"
   ]
  },
  {
   "cell_type": "markdown",
   "id": "27fbd691-d819-4736-aeb4-19e781657974",
   "metadata": {
    "jp-MarkdownHeadingCollapsed": true
   },
   "source": [
    "### Decision Tree com dados de teste"
   ]
  },
  {
   "cell_type": "code",
   "execution_count": 34,
   "id": "0ecb02db-a081-436f-a0ee-9545daf867bb",
   "metadata": {},
   "outputs": [],
   "source": [
    "# definition\n",
    "modelo_tree = tree(max_depth = 14)\n",
    "\n",
    "# fit \n",
    "modelo_tree.fit(x_final, y_final['0'])\n",
    "\n",
    "# predict\n",
    "y_pred = modelo_tree.predict(x_test)\n",
    "\n",
    "# performance \n",
    "df_test = tabela_performance(df_test, 1, y_test, y_pred) "
   ]
  },
  {
   "cell_type": "markdown",
   "id": "6d7d932f-22f0-45bd-8c59-0309c068461d",
   "metadata": {
    "jp-MarkdownHeadingCollapsed": true
   },
   "source": [
    "### Random Forest com dados de teste"
   ]
  },
  {
   "cell_type": "code",
   "execution_count": 36,
   "id": "4882a51f-4d29-4836-84b1-00b426a34b36",
   "metadata": {},
   "outputs": [],
   "source": [
    "# definition\n",
    "model = en.RandomForestClassifier(n_estimators=50, max_depth=19)\n",
    "\n",
    "# fit\n",
    "model.fit(x_final, y_final['0'])\n",
    "\n",
    "# performance \n",
    "y_pred = model.predict(x_test)\n",
    "\n",
    "# performance\n",
    "df_test = tabela_performance(df_test, 2, y_test, y_pred) "
   ]
  },
  {
   "cell_type": "markdown",
   "id": "49878d4b-cb01-4b08-9e30-b4c3ac6e5a7c",
   "metadata": {
    "jp-MarkdownHeadingCollapsed": true
   },
   "source": [
    "### Logistic Regression com dados de teste"
   ]
  },
  {
   "cell_type": "code",
   "execution_count": 38,
   "id": "f45b53af-450f-46dc-94d9-42e0dca994fe",
   "metadata": {},
   "outputs": [],
   "source": [
    "# definition\n",
    "model = lm.LogisticRegression(C= 1.0,max_iter = 50, solver = 'lbfgs')\n",
    "\n",
    "# fit\n",
    "model.fit(x_final, y_final['0'])\n",
    "\n",
    "# performance \n",
    "y_pred = model.predict(x_test)\n",
    "\n",
    "# performance\n",
    "df_test = tabela_performance(df_test, 3, y_test, y_pred) "
   ]
  },
  {
   "cell_type": "markdown",
   "id": "07541604-cde7-4503-ad86-13a23493eb8d",
   "metadata": {},
   "source": [
    "# Resultados"
   ]
  },
  {
   "cell_type": "code",
   "execution_count": 40,
   "id": "03fb4bf1-397c-4704-8329-55d6aa20f6c2",
   "metadata": {},
   "outputs": [
    {
     "data": {
      "text/html": [
       "<div>\n",
       "<style scoped>\n",
       "    .dataframe tbody tr th:only-of-type {\n",
       "        vertical-align: middle;\n",
       "    }\n",
       "\n",
       "    .dataframe tbody tr th {\n",
       "        vertical-align: top;\n",
       "    }\n",
       "\n",
       "    .dataframe thead th {\n",
       "        text-align: right;\n",
       "    }\n",
       "</style>\n",
       "<table border=\"1\" class=\"dataframe\">\n",
       "  <thead>\n",
       "    <tr style=\"text-align: right;\">\n",
       "      <th></th>\n",
       "      <th>Algoritmo</th>\n",
       "      <th>Acuracia</th>\n",
       "      <th>Precision</th>\n",
       "      <th>F1_score</th>\n",
       "    </tr>\n",
       "  </thead>\n",
       "  <tbody>\n",
       "    <tr>\n",
       "      <th>0</th>\n",
       "      <td>KNN</td>\n",
       "      <td>0.9476</td>\n",
       "      <td>0.9701</td>\n",
       "      <td>0.9375</td>\n",
       "    </tr>\n",
       "    <tr>\n",
       "      <th>1</th>\n",
       "      <td>Decision Tree</td>\n",
       "      <td>1.0000</td>\n",
       "      <td>1.0000</td>\n",
       "      <td>1.0000</td>\n",
       "    </tr>\n",
       "    <tr>\n",
       "      <th>2</th>\n",
       "      <td>Random Forest</td>\n",
       "      <td>1.0000</td>\n",
       "      <td>1.0000</td>\n",
       "      <td>1.0000</td>\n",
       "    </tr>\n",
       "    <tr>\n",
       "      <th>3</th>\n",
       "      <td>Logistic Regression</td>\n",
       "      <td>0.8753</td>\n",
       "      <td>0.8707</td>\n",
       "      <td>0.8532</td>\n",
       "    </tr>\n",
       "  </tbody>\n",
       "</table>\n",
       "</div>"
      ],
      "text/plain": [
       "             Algoritmo  Acuracia  Precision  F1_score\n",
       "0                  KNN    0.9476     0.9701    0.9375\n",
       "1        Decision Tree    1.0000     1.0000    1.0000\n",
       "2        Random Forest    1.0000     1.0000    1.0000\n",
       "3  Logistic Regression    0.8753     0.8707    0.8532"
      ]
     },
     "execution_count": 40,
     "metadata": {},
     "output_type": "execute_result"
    }
   ],
   "source": [
    "df_treino"
   ]
  },
  {
   "cell_type": "code",
   "execution_count": 41,
   "id": "16a697e4-67ae-465a-a25c-feeab94772d5",
   "metadata": {},
   "outputs": [
    {
     "data": {
      "text/html": [
       "<div>\n",
       "<style scoped>\n",
       "    .dataframe tbody tr th:only-of-type {\n",
       "        vertical-align: middle;\n",
       "    }\n",
       "\n",
       "    .dataframe tbody tr th {\n",
       "        vertical-align: top;\n",
       "    }\n",
       "\n",
       "    .dataframe thead th {\n",
       "        text-align: right;\n",
       "    }\n",
       "</style>\n",
       "<table border=\"1\" class=\"dataframe\">\n",
       "  <thead>\n",
       "    <tr style=\"text-align: right;\">\n",
       "      <th></th>\n",
       "      <th>Algoritmo</th>\n",
       "      <th>Acuracia</th>\n",
       "      <th>Precision</th>\n",
       "      <th>F1_score</th>\n",
       "    </tr>\n",
       "  </thead>\n",
       "  <tbody>\n",
       "    <tr>\n",
       "      <th>0</th>\n",
       "      <td>KNN</td>\n",
       "      <td>0.9252</td>\n",
       "      <td>0.9487</td>\n",
       "      <td>0.9102</td>\n",
       "    </tr>\n",
       "    <tr>\n",
       "      <th>1</th>\n",
       "      <td>Decision Tree</td>\n",
       "      <td>0.9514</td>\n",
       "      <td>0.9550</td>\n",
       "      <td>0.9432</td>\n",
       "    </tr>\n",
       "    <tr>\n",
       "      <th>2</th>\n",
       "      <td>Random Forest</td>\n",
       "      <td>0.9623</td>\n",
       "      <td>0.9705</td>\n",
       "      <td>0.9559</td>\n",
       "    </tr>\n",
       "    <tr>\n",
       "      <th>3</th>\n",
       "      <td>Logistic Regression</td>\n",
       "      <td>0.8742</td>\n",
       "      <td>0.8692</td>\n",
       "      <td>0.8519</td>\n",
       "    </tr>\n",
       "  </tbody>\n",
       "</table>\n",
       "</div>"
      ],
      "text/plain": [
       "             Algoritmo  Acuracia  Precision  F1_score\n",
       "0                  KNN    0.9252     0.9487    0.9102\n",
       "1        Decision Tree    0.9514     0.9550    0.9432\n",
       "2        Random Forest    0.9623     0.9705    0.9559\n",
       "3  Logistic Regression    0.8742     0.8692    0.8519"
      ]
     },
     "execution_count": 41,
     "metadata": {},
     "output_type": "execute_result"
    }
   ],
   "source": [
    "df_val"
   ]
  },
  {
   "cell_type": "code",
   "execution_count": 42,
   "id": "67b6b1c8-9f6d-4b8b-890f-6cc14a07fbfb",
   "metadata": {},
   "outputs": [
    {
     "data": {
      "text/html": [
       "<div>\n",
       "<style scoped>\n",
       "    .dataframe tbody tr th:only-of-type {\n",
       "        vertical-align: middle;\n",
       "    }\n",
       "\n",
       "    .dataframe tbody tr th {\n",
       "        vertical-align: top;\n",
       "    }\n",
       "\n",
       "    .dataframe thead th {\n",
       "        text-align: right;\n",
       "    }\n",
       "</style>\n",
       "<table border=\"1\" class=\"dataframe\">\n",
       "  <thead>\n",
       "    <tr style=\"text-align: right;\">\n",
       "      <th></th>\n",
       "      <th>Algoritmo</th>\n",
       "      <th>Acuracia</th>\n",
       "      <th>Precision</th>\n",
       "      <th>F1_score</th>\n",
       "    </tr>\n",
       "  </thead>\n",
       "  <tbody>\n",
       "    <tr>\n",
       "      <th>0</th>\n",
       "      <td>KNN</td>\n",
       "      <td>0.9297</td>\n",
       "      <td>0.9537</td>\n",
       "      <td>0.9168</td>\n",
       "    </tr>\n",
       "    <tr>\n",
       "      <th>1</th>\n",
       "      <td>Decision Tree</td>\n",
       "      <td>0.9555</td>\n",
       "      <td>0.9598</td>\n",
       "      <td>0.9488</td>\n",
       "    </tr>\n",
       "    <tr>\n",
       "      <th>2</th>\n",
       "      <td>Random Forest</td>\n",
       "      <td>0.9615</td>\n",
       "      <td>0.9686</td>\n",
       "      <td>0.9555</td>\n",
       "    </tr>\n",
       "    <tr>\n",
       "      <th>3</th>\n",
       "      <td>Logistic Regression</td>\n",
       "      <td>0.8711</td>\n",
       "      <td>0.8685</td>\n",
       "      <td>0.8501</td>\n",
       "    </tr>\n",
       "  </tbody>\n",
       "</table>\n",
       "</div>"
      ],
      "text/plain": [
       "             Algoritmo  Acuracia  Precision  F1_score\n",
       "0                  KNN    0.9297     0.9537    0.9168\n",
       "1        Decision Tree    0.9555     0.9598    0.9488\n",
       "2        Random Forest    0.9615     0.9686    0.9555\n",
       "3  Logistic Regression    0.8711     0.8685    0.8501"
      ]
     },
     "execution_count": 42,
     "metadata": {},
     "output_type": "execute_result"
    }
   ],
   "source": [
    "df_test"
   ]
  },
  {
   "cell_type": "code",
   "execution_count": 43,
   "id": "b51c09e5-a8dd-4cdb-8831-b62bbd081545",
   "metadata": {},
   "outputs": [],
   "source": [
    "# df test, algoritmo treinado apenas com dados de treino\n",
    "# \tAlgoritmo\tAcuracia\tPrecision\tF1_score\n",
    "# 0\tKNN\t            0.93\t 0.95\t     0.91\n",
    "# 1\tDecision Tree\t0.95\t 0.96\t     0.94\n",
    "# 2\tRandom Forest\t0.96\t 0.97\t     0.96\n",
    "# 3\tLogistic Reg    0.87\t 0.87\t     0.85"
   ]
  },
  {
   "cell_type": "code",
   "execution_count": 44,
   "id": "ecb210a7-67af-45c3-b00e-a23b9e9e14fb",
   "metadata": {},
   "outputs": [
    {
     "data": {
      "image/png": "[encoded data removed]",
      "text/plain": [
       "<Figure size 640x480 with 1 Axes>"
      ]
     },
     "metadata": {},
     "output_type": "display_data"
    }
   ],
   "source": [
    "# Algoritmo utilizaddo para encontrar o melhor valor para features\n",
    "lista = np.arange(10, 25, 3)\n",
    "lista_precision = []\n",
    "lista_recall = []\n",
    "lista_acuracia = []\n",
    "lista_f1 = []\n",
    "\n",
    "for i in lista:\n",
    "    # definition\n",
    "    model = en.RandomForestClassifier(n_estimators=50, max_depth=i)\n",
    "    \n",
    "    # fit\n",
    "    model.fit(x_train, y_train['0'])\n",
    "    \n",
    "    # performance \n",
    "    y_pred = model.predict(x_val)\n",
    "    \n",
    "    # performance\n",
    "    y_val = y_val.copy()\n",
    "    acuracia = mt.accuracy_score(y_val, y_pred)\n",
    "    precision = mt.precision_score(y_val, y_pred)\n",
    "    recall = mt.recall_score(y_val, y_pred, average='binary', pos_label=1)\n",
    "    f1 = mt.f1_score(y_val, y_pred, average='binary', pos_label=1)\n",
    "    \n",
    "    # print(f'Acuracia: {acuracia}\\n Precicion: {precision}\\n Recall: {recall}\\n F1_score: {f1}\\n')\n",
    "    lista_precision.append(precision)\n",
    "    lista_recall.append(recall)\n",
    "    lista_acuracia.append(acuracia)\n",
    "    lista_f1.append(f1)\n",
    "\n",
    "plt.plot(lista,lista_precision, label = 'Precision')\n",
    "plt.plot(lista,lista_recall, label = 'Recall')\n",
    "plt.plot(lista,lista_acuracia, label = 'Acuracia')\n",
    "plt.plot(lista,lista_f1, label = 'F1 Score')\n",
    "plt.legend()\n",
    "plt.grid(True)"
   ]
  }
 ],
 "metadata": {
  "kernelspec": {
   "display_name": "Python 3 (ipykernel)",
   "language": "python",
   "name": "python3"
  },
  "language_info": {
   "codemirror_mode": {
    "name": "ipython",
    "version": 3
   },
   "file_extension": ".py",
   "mimetype": "text/x-python",
   "name": "python",
   "nbconvert_exporter": "python",
   "pygments_lexer": "ipython3",
   "version": "3.12.4"
  }
 },
 "nbformat": 4,
 "nbformat_minor": 5
}
