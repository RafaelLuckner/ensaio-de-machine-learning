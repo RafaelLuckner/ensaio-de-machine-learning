{
 "cells": [
  {
   "cell_type": "code",
   "execution_count": 1,
   "id": "49d9ade8-2587-4eb6-ada4-74d755968af1",
   "metadata": {},
   "outputs": [],
   "source": [
    "# Métricas de performance R2 MSE RMSE MAE MAPE\n"
   ]
  },
  {
   "cell_type": "markdown",
   "id": "60420b58-bcc3-4ed9-afa2-b3f936dcdccd",
   "metadata": {
    "jp-MarkdownHeadingCollapsed": true
   },
   "source": [
    "# Imports"
   ]
  },
  {
   "cell_type": "code",
   "execution_count": 3,
   "id": "5578d200-30d0-454a-9be6-d682d7f88801",
   "metadata": {},
   "outputs": [],
   "source": [
    "import pandas as pd\n",
    "import numpy as np\n",
    "from matplotlib import pyplot as plt\n",
    "\n",
    "from sklearn.tree         import DecisionTreeRegressor  as tree\n",
    "from sklearn              import metrics                as mt\n",
    "from sklearn.linear_model import LinearRegression       as lr\n",
    "from sklearn.ensemble     import RandomForestRegressor  as rf\n",
    "from sklearn              import preprocessing          as pp\n",
    "from sklearn              import linear_model           as lm\n",
    "from sklearn.linear_model import Lasso                   \n",
    "from sklearn.linear_model import Ridge \n",
    "from sklearn.linear_model import ElasticNet"
   ]
  },
  {
   "cell_type": "markdown",
   "id": "33e73b64-546b-4d8c-9b2c-6b860db9a917",
   "metadata": {},
   "source": [
    "# Load Datasets"
   ]
  },
  {
   "cell_type": "code",
   "execution_count": 5,
   "id": "46aa1b68-852c-4b8e-a477-13dfc75504d2",
   "metadata": {},
   "outputs": [],
   "source": [
    "x_train =      pd.read_csv('../datasets/dados_regressao/X_training.csv')\n",
    "y_train = pd.read_csv('../datasets/dados_regressao/y_training.csv')\n",
    "x_val =  pd.read_csv('../datasets/dados_regressao/X_validation.csv')\n",
    "y_val =   pd.read_csv('../datasets/dados_regressao/y_val.csv')\n",
    "x_test = pd.read_csv('../datasets/dados_regressao/X_test.csv')\n",
    "y_test =  pd.read_csv('../datasets/dados_regressao/y_test.csv')"
   ]
  },
  {
   "cell_type": "markdown",
   "id": "52eb4ca2-be39-41d3-90ef-a667aa8b6d61",
   "metadata": {},
   "source": [
    "# def cria tabela"
   ]
  },
  {
   "cell_type": "code",
   "execution_count": 7,
   "id": "a502ac0c-5f41-4fb8-961e-e9be96505a30",
   "metadata": {},
   "outputs": [],
   "source": [
    "nome_algoritmo = ['Linear Regression', 'Decision Tree Regressor', 'Random Forest Regressor', 'Polinomial Regression',\n",
    "                  'Linear Regression Lasso', 'Linear Regression Ridge', 'Linear Regression Elastic Net',\n",
    "                  'Polinomial Regression Lasso', 'Polinomial Regression Ridge', 'Polinomial Regression Elastic Net']\n",
    "resultado_rmse = [0]*10\n",
    "resultado_mse = [0]*10\n",
    "resultado_mae=[0]*10\n",
    "resultado_mape = [0]*10\n",
    "resultado_r2=[0]*10\n"
   ]
  },
  {
   "cell_type": "code",
   "execution_count": 8,
   "id": "fc282c73-3506-4a36-ba84-0b43a5ae5226",
   "metadata": {},
   "outputs": [],
   "source": [
    "\n",
    "def tabela_performance(df, n, y, y_pred):\n",
    "        \n",
    "    #performance\n",
    "    r2 = np.round(mt.r2_score(y, y_pred),4)\n",
    "    mae =np.round( mt.mean_absolute_error(y, y_pred),4)\n",
    "    mse =np.round(mt.mean_squared_error(y, y_pred),4)\n",
    "    rmse = np.round(np.sqrt(mse),4)\n",
    "    try:\n",
    "        if len(y.columns) == 1:\n",
    "            y_array = np.array(y)\n",
    "    except AttributeError:\n",
    "        y_array = y\n",
    "        \n",
    "    mape = np.round(np.mean(np.abs((y_array - y_pred) /y_array)),4)\n",
    "    print(f\"\"\" R2: {r2} | MAE:{mae} | MSE:{mse} | RMSE:{rmse} | MAPE:{mape}\"\"\")\n",
    "\n",
    "\n",
    "    # atualizando lista\n",
    "    resultado_rmse[n] = np.round(rmse,2)\n",
    "    resultado_mse[n] = np.round(mse, 2)\n",
    "    resultado_mae[n] = np.round(mae, 2) \n",
    "    resultado_mape[n]= np.round(mape, 2)\n",
    "    resultado_r2[n]= np.round(r2, 4)\n",
    "    df = {\"Algoritmo\": nome_algoritmo,\n",
    "         \"MSE\": resultado_mse,\n",
    "         \"RMSE\": resultado_rmse,\n",
    "         \"MAE\": resultado_mae,\n",
    "         \"MAPE\": resultado_mape,\n",
    "         \"R2\": resultado_r2}\n",
    "    df = pd.DataFrame(df)\n",
    "    return df"
   ]
  },
  {
   "cell_type": "markdown",
   "id": "9527f635-6200-419d-a853-30b2ced88d80",
   "metadata": {
    "jp-MarkdownHeadingCollapsed": true
   },
   "source": [
    "# Algoritmo para escolha de features"
   ]
  },
  {
   "cell_type": "code",
   "execution_count": 10,
   "id": "1c6c9a32-bf33-43d8-913b-dc6401d0e021",
   "metadata": {},
   "outputs": [],
   "source": [
    "# lista_r2 = []\n",
    "# lista_mae = []\n",
    "# lista_mse = []\n",
    "# lista_rmse = []\n",
    "# lista_mape = []\n",
    "# range = np.arange(60,71, 10)\n",
    "\n",
    "# for n in range:\n",
    "#     # define\n",
    "#     model = rf(n_estimators=10, max_depth=8)\n",
    "    \n",
    "#     # fit\n",
    "#     model.fit(x_train, y_train.iloc[:,0])\n",
    "    \n",
    "#     # predict\n",
    "#     x = x_val\n",
    "#     y = y_val\n",
    "#     y_pred = model.predict(x)\n",
    "    \n",
    "#     df_result = y.copy()\n",
    "#     df_result['predict'] = y_pred.copy()\n",
    "    \n",
    "#     # resultados = tabela_performance(df1, 2, y, y_pred)  \n",
    "#     r2 = np.round(mt.r2_score(y, y_pred),4)\n",
    "#     mae =np.round( mt.mean_absolute_error(y, y_pred),4)\n",
    "#     mse =np.round(mt.mean_squared_error(y, y_pred),4)\n",
    "#     rmse = np.round(np.sqrt(mse),4)\n",
    "#     y_array = np.array(y['song_popularity'])\n",
    "#     mape = np.round(np.mean(np.abs((y_array - y_pred) /y_array)),4)\n",
    "#     print(f\"\"\"N = {n} R2: {r2} | MAE:{mae} | MSE:{mse} | RMSE:{rmse} | MAPE:{mape}\\n\"\"\")\n",
    "\n",
    "\n",
    "#     lista_r2.append(r2)\n",
    "#     lista_mae.append(mae)\n",
    "#     lista_mse.append(mse)\n",
    "#     lista_rmse.append(rmse)\n",
    "#     lista_mape.append(mape)\n",
    "\n",
    "\n",
    "# plt.plot(range,lista_r2, label = 'r2')\n",
    "# # plt.plot(range,lista_mae, label = 'mae')\n",
    "# # plt.plot(range,lista_mse, label = 'mse')\n",
    "# # plt.plot(range,lista_rmse, label = 'rmse')\n",
    "# # plt.plot(range,lista_mape, label = 'mape')\n",
    "# plt.legend()\n",
    "# plt.grid(True)"
   ]
  },
  {
   "cell_type": "markdown",
   "id": "b17e2c83-718a-4a59-bd69-e98885a5677f",
   "metadata": {},
   "source": [
    "# Resultados com Dados De Treino"
   ]
  },
  {
   "cell_type": "markdown",
   "id": "5524a3f1-8b14-4209-b6ea-cd863161f951",
   "metadata": {},
   "source": [
    "### Linear Regression"
   ]
  },
  {
   "cell_type": "code",
   "execution_count": 13,
   "id": "2ded6527-ca60-4b0b-a2c4-473cad858da8",
   "metadata": {},
   "outputs": [
    {
     "name": "stdout",
     "output_type": "stream",
     "text": [
      " R2: 0.0461 | MAE:16.9982 | MSE:455.9961 | RMSE:21.3541 | MAPE:8.6532\n"
     ]
    }
   ],
   "source": [
    "# define\n",
    "model = lr()\n",
    "\n",
    "# fit\n",
    "model.fit(x_train, y_train)\n",
    "\n",
    "# predict\n",
    "x = x_train\n",
    "y = y_train\n",
    "y_pred = model.predict(x)\n",
    "\n",
    "df_result = y.copy()\n",
    "df_result['predict'] = y_pred.copy()\n",
    "df1 = {}\n",
    "resultados = tabela_performance(df1, 0, y, y_pred)"
   ]
  },
  {
   "cell_type": "markdown",
   "id": "e81d547c-90ea-47f6-9117-18fd19b8a9eb",
   "metadata": {
    "jp-MarkdownHeadingCollapsed": true
   },
   "source": [
    "### Decision Tree Regressor"
   ]
  },
  {
   "cell_type": "code",
   "execution_count": 15,
   "id": "2c6f169d-0f5a-4f67-9216-d309009e3fd1",
   "metadata": {},
   "outputs": [
    {
     "name": "stdout",
     "output_type": "stream",
     "text": [
      " R2: 0.0636 | MAE:16.8435 | MSE:447.1613 | RMSE:21.1462 | MAPE:8.703\n"
     ]
    }
   ],
   "source": [
    "\n",
    "# define\n",
    "model = tree(max_depth = 5)\n",
    "\n",
    "# fit\n",
    "model.fit(x_train, y_train)\n",
    "\n",
    "# predict \n",
    "x = x_val\n",
    "y = y_val\n",
    "y_pred = model.predict(x)\n",
    "    \n",
    "resultados = tabela_performance(df1, 1, y, y_pred)\n"
   ]
  },
  {
   "cell_type": "markdown",
   "id": "a963348b-93ce-4b0f-b479-c65f7fb8e895",
   "metadata": {},
   "source": [
    "### Random Forest Regressor"
   ]
  },
  {
   "cell_type": "code",
   "execution_count": 17,
   "id": "c3dd7105-a39a-489a-8d48-263329178f0d",
   "metadata": {},
   "outputs": [
    {
     "name": "stdout",
     "output_type": "stream",
     "text": [
      " R2: 0.8573 | MAE:6.199 | MSE:68.2287 | RMSE:8.2601 | MAPE:8.8702\n"
     ]
    }
   ],
   "source": [
    "# define\n",
    "model = rf(n_estimators=60, max_depth=18)\n",
    "\n",
    "# fit\n",
    "model.fit(x_train, y_train.iloc[:,0])\n",
    "\n",
    "# predict\n",
    "x = x_train\n",
    "y = y_train\n",
    "y_pred = model.predict(x)\n",
    "\n",
    "df_result = y.copy()\n",
    "df_result['predict'] = y_pred.copy()\n",
    "\n",
    "resultados = tabela_performance(df1, 2, y, y_pred)  "
   ]
  },
  {
   "cell_type": "markdown",
   "id": "02d63243-188b-4272-99be-7ef2138d747c",
   "metadata": {},
   "source": [
    "### Polinomial Regression"
   ]
  },
  {
   "cell_type": "code",
   "execution_count": 19,
   "id": "2c1ac208-a066-4da1-bf40-40547cf93127",
   "metadata": {},
   "outputs": [
    {
     "name": "stdout",
     "output_type": "stream",
     "text": [
      " R2: 0.0942 | MAE:16.458 | MSE:432.9862 | RMSE:20.8083 | MAPE:8.3505\n"
     ]
    }
   ],
   "source": [
    "poly = pp.PolynomialFeatures(degree=2, include_bias=False)\n",
    "x_poly = poly.fit_transform(x_train)\n",
    "\n",
    "x = x_poly\n",
    "y = y_train\n",
    "\n",
    "# model training\n",
    "model = lm.LinearRegression()\n",
    "model.fit( x, y )\n",
    "\n",
    "# predict\n",
    "y_pred = model.predict( x )\n",
    "\n",
    "\n",
    "resultados = tabela_performance(df1, 3, y, y_pred)"
   ]
  },
  {
   "cell_type": "markdown",
   "id": "23a224ea-d267-4a97-b834-b2bf58c8e4c6",
   "metadata": {},
   "source": [
    "### Linear Regression Lasso"
   ]
  },
  {
   "cell_type": "code",
   "execution_count": 21,
   "id": "03c8b645-db9e-4bf9-b9d9-21fb1cb312e6",
   "metadata": {},
   "outputs": [
    {
     "name": "stdout",
     "output_type": "stream",
     "text": [
      " R2: 0.0074 | MAE:17.3055 | MSE:474.4748 | RMSE:21.7824 | MAPE:8.7427\n"
     ]
    }
   ],
   "source": [
    "# definição modelo\n",
    "model = Lasso(alpha=1)\n",
    "\n",
    "# fit\n",
    "model.fit(x_train, y_train)\n",
    "\n",
    "# predict\n",
    "x = x_train\n",
    "y = y_train\n",
    "y_pred = model.predict(x)\n",
    "\n",
    "df_result = y.copy()\n",
    "df_result['predict'] = y_pred.copy()\n",
    "\n",
    "resultados = tabela_performance(df1, 4, y, y_pred)"
   ]
  },
  {
   "cell_type": "markdown",
   "id": "62787a6d-f2d9-46b7-ae6a-cfe8e386ef31",
   "metadata": {},
   "source": [
    "### Linear Regression Ridge"
   ]
  },
  {
   "cell_type": "code",
   "execution_count": 23,
   "id": "4ae24b64-2d85-4462-95fb-0c1fba9cd9c2",
   "metadata": {},
   "outputs": [
    {
     "name": "stdout",
     "output_type": "stream",
     "text": [
      " R2: 0.0461 | MAE:16.9983 | MSE:455.9964 | RMSE:21.3541 | MAPE:8.6534\n"
     ]
    }
   ],
   "source": [
    "# definição modelo\n",
    "model = Ridge(alpha=1.0)\n",
    "\n",
    "# fit\n",
    "model.fit(x_train, y_train)\n",
    "\n",
    "# predict\n",
    "x = x_train\n",
    "y = y_train\n",
    "y_pred = model.predict(x)\n",
    "\n",
    "df_result = y.copy()\n",
    "df_result['predict'] = y_pred.copy()\n",
    "\n",
    "resultados = tabela_performance(df1, 5, y, y_pred)"
   ]
  },
  {
   "cell_type": "markdown",
   "id": "d7c4077f-7d03-4b4f-9132-cf47bbffd87f",
   "metadata": {},
   "source": [
    "### Linear Regression Elastic Net"
   ]
  },
  {
   "cell_type": "code",
   "execution_count": 25,
   "id": "fdcb8ad3-adcb-40d2-9d15-ba0794aab1d2",
   "metadata": {},
   "outputs": [
    {
     "name": "stdout",
     "output_type": "stream",
     "text": [
      " R2: 0.0078 | MAE:17.2995 | MSE:474.2689 | RMSE:21.7777 | MAPE:8.7427\n"
     ]
    }
   ],
   "source": [
    "# define \n",
    "model = ElasticNet(alpha=1.0, l1_ratio=0.5)\n",
    "\n",
    "# fit\n",
    "model.fit(x_train, y_train)\n",
    "\n",
    "# predict\n",
    "x = x_train\n",
    "y = y_train\n",
    "y_pred = model.predict(x)\n",
    "\n",
    "df_result = y.copy()\n",
    "df_result['predict'] = y_pred.copy()\n",
    "\n",
    "resultados = tabela_performance(df1, 6, y, y_pred)"
   ]
  },
  {
   "cell_type": "markdown",
   "id": "5bc1f22f-6b9d-4329-9806-efa0467eb581",
   "metadata": {},
   "source": [
    "### Polinomial Regression Lasso"
   ]
  },
  {
   "cell_type": "code",
   "execution_count": 27,
   "id": "8fd24ea0-5198-4c4d-9d8b-31580ce4b7ad",
   "metadata": {},
   "outputs": [
    {
     "name": "stdout",
     "output_type": "stream",
     "text": [
      " R2: 0.0091 | MAE:17.2854 | MSE:473.6388 | RMSE:21.7632 | MAPE:8.7428\n"
     ]
    }
   ],
   "source": [
    "poly = pp.PolynomialFeatures(degree=2, include_bias=False)\n",
    "x_poly = poly.fit_transform(x_train)\n",
    "\n",
    "x = x_poly\n",
    "y = y_train\n",
    "\n",
    "# define\n",
    "model = lm.Lasso(alpha= 1.0)\n",
    "\n",
    "# train\n",
    "model.fit( x, y )\n",
    "\n",
    "# predict\n",
    "y_pred = model.predict( x )\n",
    "\n",
    "\n",
    "resultados = tabela_performance(df1, 7, y, y_pred)"
   ]
  },
  {
   "cell_type": "markdown",
   "id": "b7a6cc6b-2538-4c2b-8ad3-e093201e277a",
   "metadata": {},
   "source": [
    "### Polinomial Regression Ridge"
   ]
  },
  {
   "cell_type": "code",
   "execution_count": 29,
   "id": "b4b59dfe-dd2b-4553-b0fe-1a24bc6274b9",
   "metadata": {},
   "outputs": [
    {
     "name": "stdout",
     "output_type": "stream",
     "text": [
      " R2: 0.0932 | MAE:16.472 | MSE:433.4755 | RMSE:20.8201 | MAPE:8.3727\n"
     ]
    }
   ],
   "source": [
    "poly = pp.PolynomialFeatures(degree=2, include_bias=False)\n",
    "x_poly = poly.fit_transform(x_train)\n",
    "\n",
    "x = x_poly\n",
    "y = y_train\n",
    "\n",
    "# define\n",
    "model = lm.Ridge(alpha= 1.0)\n",
    "\n",
    "# train\n",
    "model.fit( x, y )\n",
    "\n",
    "# predict\n",
    "y_pred = model.predict( x )\n",
    "\n",
    "\n",
    "resultados = tabela_performance(df1, 8, y, y_pred)"
   ]
  },
  {
   "cell_type": "markdown",
   "id": "621ebfe0-0df6-4954-9c9f-2e5619c45510",
   "metadata": {},
   "source": [
    "### Polinomial Regression Elastic Net"
   ]
  },
  {
   "cell_type": "code",
   "execution_count": 31,
   "id": "9f6eb666-9f6f-4182-bf3a-4f760edd754a",
   "metadata": {},
   "outputs": [
    {
     "name": "stdout",
     "output_type": "stream",
     "text": [
      " R2: 0.0128 | MAE:17.2442 | MSE:471.8783 | RMSE:21.7228 | MAPE:8.7431\n"
     ]
    }
   ],
   "source": [
    "poly = pp.PolynomialFeatures(degree=2, include_bias=False)\n",
    "x_poly = poly.fit_transform(x_train)\n",
    "\n",
    "x = x_poly\n",
    "y = y_train\n",
    "\n",
    "# define\n",
    "model = lm.ElasticNet(alpha= 1.0)\n",
    "\n",
    "# train\n",
    "model.fit( x, y )\n",
    "\n",
    "# predict\n",
    "y_pred = model.predict( x )\n",
    "\n",
    "\n",
    "resultados = tabela_performance(df1, 9, y, y_pred)"
   ]
  },
  {
   "cell_type": "markdown",
   "id": "e406712a-40d5-4ac4-adc1-d28e610b04ce",
   "metadata": {
    "jp-MarkdownHeadingCollapsed": true
   },
   "source": [
    "## resultados"
   ]
  },
  {
   "cell_type": "code",
   "execution_count": 33,
   "id": "849a9cf9-b1c3-4080-9cb5-de29c7d5512e",
   "metadata": {},
   "outputs": [
    {
     "data": {
      "text/html": [
       "<div>\n",
       "<style scoped>\n",
       "    .dataframe tbody tr th:only-of-type {\n",
       "        vertical-align: middle;\n",
       "    }\n",
       "\n",
       "    .dataframe tbody tr th {\n",
       "        vertical-align: top;\n",
       "    }\n",
       "\n",
       "    .dataframe thead th {\n",
       "        text-align: right;\n",
       "    }\n",
       "</style>\n",
       "<table border=\"1\" class=\"dataframe\">\n",
       "  <thead>\n",
       "    <tr style=\"text-align: right;\">\n",
       "      <th></th>\n",
       "      <th>Algoritmo</th>\n",
       "      <th>MSE</th>\n",
       "      <th>RMSE</th>\n",
       "      <th>MAE</th>\n",
       "      <th>MAPE</th>\n",
       "      <th>R2</th>\n",
       "    </tr>\n",
       "  </thead>\n",
       "  <tbody>\n",
       "    <tr>\n",
       "      <th>0</th>\n",
       "      <td>Linear Regression</td>\n",
       "      <td>456.00</td>\n",
       "      <td>21.35</td>\n",
       "      <td>17.00</td>\n",
       "      <td>8.65</td>\n",
       "      <td>0.0461</td>\n",
       "    </tr>\n",
       "    <tr>\n",
       "      <th>1</th>\n",
       "      <td>Decision Tree Regressor</td>\n",
       "      <td>447.16</td>\n",
       "      <td>21.15</td>\n",
       "      <td>16.84</td>\n",
       "      <td>8.70</td>\n",
       "      <td>0.0636</td>\n",
       "    </tr>\n",
       "    <tr>\n",
       "      <th>2</th>\n",
       "      <td>Random Forest Regressor</td>\n",
       "      <td>68.23</td>\n",
       "      <td>8.26</td>\n",
       "      <td>6.20</td>\n",
       "      <td>8.87</td>\n",
       "      <td>0.8573</td>\n",
       "    </tr>\n",
       "    <tr>\n",
       "      <th>3</th>\n",
       "      <td>Polinomial Regression</td>\n",
       "      <td>432.99</td>\n",
       "      <td>20.81</td>\n",
       "      <td>16.46</td>\n",
       "      <td>8.35</td>\n",
       "      <td>0.0942</td>\n",
       "    </tr>\n",
       "    <tr>\n",
       "      <th>4</th>\n",
       "      <td>Linear Regression Lasso</td>\n",
       "      <td>474.47</td>\n",
       "      <td>21.78</td>\n",
       "      <td>17.31</td>\n",
       "      <td>8.74</td>\n",
       "      <td>0.0074</td>\n",
       "    </tr>\n",
       "    <tr>\n",
       "      <th>5</th>\n",
       "      <td>Linear Regression Ridge</td>\n",
       "      <td>456.00</td>\n",
       "      <td>21.35</td>\n",
       "      <td>17.00</td>\n",
       "      <td>8.65</td>\n",
       "      <td>0.0461</td>\n",
       "    </tr>\n",
       "    <tr>\n",
       "      <th>6</th>\n",
       "      <td>Linear Regression Elastic Net</td>\n",
       "      <td>474.27</td>\n",
       "      <td>21.78</td>\n",
       "      <td>17.30</td>\n",
       "      <td>8.74</td>\n",
       "      <td>0.0078</td>\n",
       "    </tr>\n",
       "    <tr>\n",
       "      <th>7</th>\n",
       "      <td>Polinomial Regression Lasso</td>\n",
       "      <td>473.64</td>\n",
       "      <td>21.76</td>\n",
       "      <td>17.29</td>\n",
       "      <td>8.74</td>\n",
       "      <td>0.0091</td>\n",
       "    </tr>\n",
       "    <tr>\n",
       "      <th>8</th>\n",
       "      <td>Polinomial Regression Ridge</td>\n",
       "      <td>433.48</td>\n",
       "      <td>20.82</td>\n",
       "      <td>16.47</td>\n",
       "      <td>8.37</td>\n",
       "      <td>0.0932</td>\n",
       "    </tr>\n",
       "    <tr>\n",
       "      <th>9</th>\n",
       "      <td>Polinomial Regression Elastic Net</td>\n",
       "      <td>471.88</td>\n",
       "      <td>21.72</td>\n",
       "      <td>17.24</td>\n",
       "      <td>8.74</td>\n",
       "      <td>0.0128</td>\n",
       "    </tr>\n",
       "  </tbody>\n",
       "</table>\n",
       "</div>"
      ],
      "text/plain": [
       "                           Algoritmo     MSE   RMSE    MAE  MAPE      R2\n",
       "0                  Linear Regression  456.00  21.35  17.00  8.65  0.0461\n",
       "1            Decision Tree Regressor  447.16  21.15  16.84  8.70  0.0636\n",
       "2            Random Forest Regressor   68.23   8.26   6.20  8.87  0.8573\n",
       "3              Polinomial Regression  432.99  20.81  16.46  8.35  0.0942\n",
       "4            Linear Regression Lasso  474.47  21.78  17.31  8.74  0.0074\n",
       "5            Linear Regression Ridge  456.00  21.35  17.00  8.65  0.0461\n",
       "6      Linear Regression Elastic Net  474.27  21.78  17.30  8.74  0.0078\n",
       "7        Polinomial Regression Lasso  473.64  21.76  17.29  8.74  0.0091\n",
       "8        Polinomial Regression Ridge  433.48  20.82  16.47  8.37  0.0932\n",
       "9  Polinomial Regression Elastic Net  471.88  21.72  17.24  8.74  0.0128"
      ]
     },
     "execution_count": 33,
     "metadata": {},
     "output_type": "execute_result"
    }
   ],
   "source": [
    "resultados"
   ]
  },
  {
   "cell_type": "markdown",
   "id": "08868062-b2df-4702-83d7-f9dede84a6fb",
   "metadata": {
    "jp-MarkdownHeadingCollapsed": true
   },
   "source": [
    "# Resultados com Dados de Validação"
   ]
  },
  {
   "cell_type": "code",
   "execution_count": 35,
   "id": "146a1e22-424f-4070-b979-a579d843a62a",
   "metadata": {},
   "outputs": [],
   "source": [
    "resultado_rmse = [0]*10\n",
    "resultado_mse = [0]*10\n",
    "resultado_mae=[0]*10\n",
    "resultado_mape = [0]*10\n",
    "resultado_r2=[0]*10"
   ]
  },
  {
   "cell_type": "markdown",
   "id": "2bbbc6d2-21f4-4da8-8f5b-570b2aebd531",
   "metadata": {
    "jp-MarkdownHeadingCollapsed": true
   },
   "source": [
    "### Linear Regression"
   ]
  },
  {
   "cell_type": "code",
   "execution_count": 37,
   "id": "b665efb2",
   "metadata": {},
   "outputs": [
    {
     "name": "stdout",
     "output_type": "stream",
     "text": [
      " R2: 0.0399 | MAE:17.0398 | MSE:458.447 | RMSE:21.4114 | MAPE:8.6825\n"
     ]
    }
   ],
   "source": [
    "# define\n",
    "model = lr()\n",
    "\n",
    "# fit\n",
    "model.fit(x_train, y_train)\n",
    "\n",
    "# predict\n",
    "x = x_val\n",
    "y = y_val\n",
    "y_pred = model.predict(x)\n",
    "\n",
    "df_result = y.copy()\n",
    "df_result['predict'] = y_pred.copy()\n",
    "df1 = {}\n",
    "resultados_val = tabela_performance(df1, 0, y, y_pred)"
   ]
  },
  {
   "cell_type": "markdown",
   "id": "945e054e-0111-4e1d-b157-16fe4a2aefe4",
   "metadata": {
    "jp-MarkdownHeadingCollapsed": true
   },
   "source": [
    "### Decision Tree Regressor"
   ]
  },
  {
   "cell_type": "code",
   "execution_count": 39,
   "id": "74265db2",
   "metadata": {},
   "outputs": [
    {
     "name": "stdout",
     "output_type": "stream",
     "text": [
      " R2: 0.0636 | MAE:16.8435 | MSE:447.1613 | RMSE:21.1462 | MAPE:8.703\n"
     ]
    }
   ],
   "source": [
    "# define\n",
    "model = tree(max_depth = 5)\n",
    "\n",
    "# fit\n",
    "model.fit(x_train, y_train)\n",
    "\n",
    "# predict \n",
    "x = x_val\n",
    "y = y_val\n",
    "y_pred = model.predict(x)\n",
    "\n",
    "resultados_val = tabela_performance(df1, 1, y, y_pred)\n"
   ]
  },
  {
   "cell_type": "markdown",
   "id": "50e00ce0-f574-47d6-b428-0e58a89037fb",
   "metadata": {
    "jp-MarkdownHeadingCollapsed": true
   },
   "source": [
    "### Random Forest Regressor"
   ]
  },
  {
   "cell_type": "code",
   "execution_count": 41,
   "id": "6048b314",
   "metadata": {},
   "outputs": [
    {
     "name": "stdout",
     "output_type": "stream",
     "text": [
      " R2: 0.3211 | MAE:13.3841 | MSE:324.1819 | RMSE:18.0051 | MAPE:8.8483\n"
     ]
    }
   ],
   "source": [
    "# define\n",
    "model = rf(n_estimators=60, max_depth=18)\n",
    "\n",
    "# fit\n",
    "model.fit(x_train, y_train.iloc[:,0])\n",
    "\n",
    "# predict\n",
    "x = x_val\n",
    "y = y_val\n",
    "y_pred = model.predict(x)\n",
    "\n",
    "resultados_val = tabela_performance(df1, 2, y, y_pred)"
   ]
  },
  {
   "cell_type": "markdown",
   "id": "48557f54-6970-4cb6-b3d7-8e5339860481",
   "metadata": {
    "jp-MarkdownHeadingCollapsed": true
   },
   "source": [
    "### Polinomial Regression"
   ]
  },
  {
   "cell_type": "code",
   "execution_count": 43,
   "id": "ae2f3fae",
   "metadata": {},
   "outputs": [
    {
     "name": "stdout",
     "output_type": "stream",
     "text": [
      " R2: 0.0665 | MAE:16.7499 | MSE:445.7682 | RMSE:21.1132 | MAPE:8.5479\n"
     ]
    }
   ],
   "source": [
    "poly = pp.PolynomialFeatures(degree=2, include_bias=False)\n",
    "x_poly = poly.fit_transform(x_train)\n",
    "\n",
    "x = x_poly\n",
    "y = y_train\n",
    "\n",
    "# model training\n",
    "model = lm.LinearRegression()\n",
    "model.fit( x, y )\n",
    "\n",
    "# predict\n",
    "y_pred = model.predict( poly.fit_transform(x_val) )\n",
    "\n",
    "resultados_val = tabela_performance(df1, 3, y_val, y_pred)"
   ]
  },
  {
   "cell_type": "markdown",
   "id": "71918316-06e1-43e3-8639-421066ffb70e",
   "metadata": {
    "jp-MarkdownHeadingCollapsed": true
   },
   "source": [
    "### Linear Regression Lasso"
   ]
  },
  {
   "cell_type": "code",
   "execution_count": 45,
   "id": "6501a2c4",
   "metadata": {},
   "outputs": [
    {
     "name": "stdout",
     "output_type": "stream",
     "text": [
      " R2: 0.0079 | MAE:17.2649 | MSE:473.7471 | RMSE:21.7657 | MAPE:8.6818\n"
     ]
    }
   ],
   "source": [
    "# definição modelo\n",
    "model = Lasso(alpha=1)\n",
    "\n",
    "# fit\n",
    "model.fit(x_train, y_train)\n",
    "\n",
    "# predict\n",
    "x = x_val\n",
    "y = y_val\n",
    "y_pred = model.predict(x)\n",
    "\n",
    "resultados_val = tabela_performance(df1, 4, y, y_pred)"
   ]
  },
  {
   "cell_type": "markdown",
   "id": "3ff86220-0cc3-4510-9d0d-eab7609f77fa",
   "metadata": {
    "jp-MarkdownHeadingCollapsed": true
   },
   "source": [
    "### Linear Regression Ridge"
   ]
  },
  {
   "cell_type": "code",
   "execution_count": 47,
   "id": "ec862f22",
   "metadata": {},
   "outputs": [
    {
     "name": "stdout",
     "output_type": "stream",
     "text": [
      " R2: 0.0399 | MAE:17.0395 | MSE:458.4455 | RMSE:21.4113 | MAPE:8.6824\n"
     ]
    }
   ],
   "source": [
    "# definição modelo\n",
    "model = Ridge(alpha=1.0)\n",
    "\n",
    "# fit\n",
    "model.fit(x_train, y_train)\n",
    "\n",
    "# predict\n",
    "x = x_val\n",
    "y = y_val\n",
    "y_pred = model.predict(x)\n",
    "\n",
    "resultados_val = tabela_performance(df1, 5, y, y_pred)"
   ]
  },
  {
   "cell_type": "markdown",
   "id": "55f56a09-4af2-4724-a2e5-4eefa32929cc",
   "metadata": {
    "jp-MarkdownHeadingCollapsed": true
   },
   "source": [
    "### Linear Regression Elastic Net"
   ]
  },
  {
   "cell_type": "code",
   "execution_count": 49,
   "id": "0d16753f",
   "metadata": {},
   "outputs": [
    {
     "name": "stdout",
     "output_type": "stream",
     "text": [
      " R2: 0.0081 | MAE:17.2629 | MSE:473.6356 | RMSE:21.7632 | MAPE:8.6811\n"
     ]
    }
   ],
   "source": [
    "# define \n",
    "model = ElasticNet(alpha=1.0, l1_ratio=0.5)\n",
    "\n",
    "# fit\n",
    "model.fit(x_train, y_train)\n",
    "\n",
    "# predict\n",
    "x = x_val\n",
    "y = y_val\n",
    "y_pred = model.predict(x)\n",
    "\n",
    "resultados_val = tabela_performance(df1, 6, y, y_pred)"
   ]
  },
  {
   "cell_type": "markdown",
   "id": "78071ade-2b2c-4533-8ca7-e2165d90ba0f",
   "metadata": {
    "jp-MarkdownHeadingCollapsed": true
   },
   "source": [
    "### Polinomial Regression Lasso"
   ]
  },
  {
   "cell_type": "code",
   "execution_count": 51,
   "id": "1994e835",
   "metadata": {},
   "outputs": [
    {
     "name": "stdout",
     "output_type": "stream",
     "text": [
      " R2: 0.0096 | MAE:17.2384 | MSE:472.9127 | RMSE:21.7466 | MAPE:8.6797\n"
     ]
    }
   ],
   "source": [
    "poly = pp.PolynomialFeatures(degree=2, include_bias=False)\n",
    "x_poly = poly.fit_transform(x_train)\n",
    "\n",
    "x = x_poly\n",
    "y = y_train\n",
    "\n",
    "# define\n",
    "model = lm.Lasso(alpha= 1.0)\n",
    "\n",
    "# train\n",
    "model.fit( x, y )\n",
    "\n",
    "# predict\n",
    "y_pred = model.predict( poly.fit_transform(x_val) )\n",
    "\n",
    "resultados_val = tabela_performance(df1, 7, y_val, y_pred)"
   ]
  },
  {
   "cell_type": "markdown",
   "id": "4dd2ae21-a36b-4109-8005-03a09e4b48a9",
   "metadata": {
    "jp-MarkdownHeadingCollapsed": true
   },
   "source": [
    "### Polinomial Regression Ridge"
   ]
  },
  {
   "cell_type": "code",
   "execution_count": 53,
   "id": "31429bb7",
   "metadata": {},
   "outputs": [
    {
     "name": "stdout",
     "output_type": "stream",
     "text": [
      " R2: 0.0677 | MAE:16.7387 | MSE:445.1844 | RMSE:21.0994 | MAPE:8.569\n"
     ]
    }
   ],
   "source": [
    "poly = pp.PolynomialFeatures(degree=2, include_bias=False)\n",
    "x_poly = poly.fit_transform(x_train)\n",
    "\n",
    "x = x_poly\n",
    "y = y_train\n",
    "\n",
    "# define\n",
    "model = lm.Ridge(alpha= 1.0)\n",
    "\n",
    "# train\n",
    "model.fit( x, y )\n",
    "\n",
    "# predict\n",
    "y_pred = model.predict( poly.fit_transform(x_val) )\n",
    "\n",
    "resultados_val = tabela_performance(df1, 8, y_val, y_pred)"
   ]
  },
  {
   "cell_type": "markdown",
   "id": "e77a517d-5abb-4b59-89ab-a51bdbd597cd",
   "metadata": {
    "jp-MarkdownHeadingCollapsed": true
   },
   "source": [
    "### Polinomial Regression Elastic Net"
   ]
  },
  {
   "cell_type": "code",
   "execution_count": 55,
   "id": "1f6994e8",
   "metadata": {},
   "outputs": [
    {
     "name": "stdout",
     "output_type": "stream",
     "text": [
      " R2: 0.0128 | MAE:17.2 | MSE:471.4082 | RMSE:21.7119 | MAPE:8.6794\n"
     ]
    }
   ],
   "source": [
    "poly = pp.PolynomialFeatures(degree=2, include_bias=False)\n",
    "x_poly = poly.fit_transform(x_train)\n",
    "\n",
    "x = x_poly\n",
    "y = y_train\n",
    "\n",
    "# define\n",
    "model = lm.ElasticNet(alpha= 1.0)\n",
    "\n",
    "# train\n",
    "model.fit( x, y )\n",
    "\n",
    "# predict\n",
    "y_pred = model.predict( poly.fit_transform(x_val) )\n",
    "\n",
    "resultados_val = tabela_performance(df1, 9, y_val, y_pred)"
   ]
  },
  {
   "cell_type": "markdown",
   "id": "e5e1d5df-dfb3-4a99-b932-a07e76126626",
   "metadata": {
    "jp-MarkdownHeadingCollapsed": true
   },
   "source": [
    "### resultado"
   ]
  },
  {
   "cell_type": "code",
   "execution_count": 57,
   "id": "b36e8a62-7abd-4c76-b140-b8c2216fe894",
   "metadata": {},
   "outputs": [
    {
     "data": {
      "text/html": [
       "<div>\n",
       "<style scoped>\n",
       "    .dataframe tbody tr th:only-of-type {\n",
       "        vertical-align: middle;\n",
       "    }\n",
       "\n",
       "    .dataframe tbody tr th {\n",
       "        vertical-align: top;\n",
       "    }\n",
       "\n",
       "    .dataframe thead th {\n",
       "        text-align: right;\n",
       "    }\n",
       "</style>\n",
       "<table border=\"1\" class=\"dataframe\">\n",
       "  <thead>\n",
       "    <tr style=\"text-align: right;\">\n",
       "      <th></th>\n",
       "      <th>Algoritmo</th>\n",
       "      <th>MSE</th>\n",
       "      <th>RMSE</th>\n",
       "      <th>MAE</th>\n",
       "      <th>MAPE</th>\n",
       "      <th>R2</th>\n",
       "    </tr>\n",
       "  </thead>\n",
       "  <tbody>\n",
       "    <tr>\n",
       "      <th>0</th>\n",
       "      <td>Linear Regression</td>\n",
       "      <td>458.45</td>\n",
       "      <td>21.41</td>\n",
       "      <td>17.04</td>\n",
       "      <td>8.68</td>\n",
       "      <td>0.0399</td>\n",
       "    </tr>\n",
       "    <tr>\n",
       "      <th>1</th>\n",
       "      <td>Decision Tree Regressor</td>\n",
       "      <td>447.16</td>\n",
       "      <td>21.15</td>\n",
       "      <td>16.84</td>\n",
       "      <td>8.70</td>\n",
       "      <td>0.0636</td>\n",
       "    </tr>\n",
       "    <tr>\n",
       "      <th>2</th>\n",
       "      <td>Random Forest Regressor</td>\n",
       "      <td>324.18</td>\n",
       "      <td>18.01</td>\n",
       "      <td>13.38</td>\n",
       "      <td>8.85</td>\n",
       "      <td>0.3211</td>\n",
       "    </tr>\n",
       "    <tr>\n",
       "      <th>3</th>\n",
       "      <td>Polinomial Regression</td>\n",
       "      <td>445.77</td>\n",
       "      <td>21.11</td>\n",
       "      <td>16.75</td>\n",
       "      <td>8.55</td>\n",
       "      <td>0.0665</td>\n",
       "    </tr>\n",
       "    <tr>\n",
       "      <th>4</th>\n",
       "      <td>Linear Regression Lasso</td>\n",
       "      <td>473.75</td>\n",
       "      <td>21.77</td>\n",
       "      <td>17.26</td>\n",
       "      <td>8.68</td>\n",
       "      <td>0.0079</td>\n",
       "    </tr>\n",
       "    <tr>\n",
       "      <th>5</th>\n",
       "      <td>Linear Regression Ridge</td>\n",
       "      <td>458.45</td>\n",
       "      <td>21.41</td>\n",
       "      <td>17.04</td>\n",
       "      <td>8.68</td>\n",
       "      <td>0.0399</td>\n",
       "    </tr>\n",
       "    <tr>\n",
       "      <th>6</th>\n",
       "      <td>Linear Regression Elastic Net</td>\n",
       "      <td>473.64</td>\n",
       "      <td>21.76</td>\n",
       "      <td>17.26</td>\n",
       "      <td>8.68</td>\n",
       "      <td>0.0081</td>\n",
       "    </tr>\n",
       "    <tr>\n",
       "      <th>7</th>\n",
       "      <td>Polinomial Regression Lasso</td>\n",
       "      <td>472.91</td>\n",
       "      <td>21.75</td>\n",
       "      <td>17.24</td>\n",
       "      <td>8.68</td>\n",
       "      <td>0.0096</td>\n",
       "    </tr>\n",
       "    <tr>\n",
       "      <th>8</th>\n",
       "      <td>Polinomial Regression Ridge</td>\n",
       "      <td>445.18</td>\n",
       "      <td>21.10</td>\n",
       "      <td>16.74</td>\n",
       "      <td>8.57</td>\n",
       "      <td>0.0677</td>\n",
       "    </tr>\n",
       "    <tr>\n",
       "      <th>9</th>\n",
       "      <td>Polinomial Regression Elastic Net</td>\n",
       "      <td>471.41</td>\n",
       "      <td>21.71</td>\n",
       "      <td>17.20</td>\n",
       "      <td>8.68</td>\n",
       "      <td>0.0128</td>\n",
       "    </tr>\n",
       "  </tbody>\n",
       "</table>\n",
       "</div>"
      ],
      "text/plain": [
       "                           Algoritmo     MSE   RMSE    MAE  MAPE      R2\n",
       "0                  Linear Regression  458.45  21.41  17.04  8.68  0.0399\n",
       "1            Decision Tree Regressor  447.16  21.15  16.84  8.70  0.0636\n",
       "2            Random Forest Regressor  324.18  18.01  13.38  8.85  0.3211\n",
       "3              Polinomial Regression  445.77  21.11  16.75  8.55  0.0665\n",
       "4            Linear Regression Lasso  473.75  21.77  17.26  8.68  0.0079\n",
       "5            Linear Regression Ridge  458.45  21.41  17.04  8.68  0.0399\n",
       "6      Linear Regression Elastic Net  473.64  21.76  17.26  8.68  0.0081\n",
       "7        Polinomial Regression Lasso  472.91  21.75  17.24  8.68  0.0096\n",
       "8        Polinomial Regression Ridge  445.18  21.10  16.74  8.57  0.0677\n",
       "9  Polinomial Regression Elastic Net  471.41  21.71  17.20  8.68  0.0128"
      ]
     },
     "execution_count": 57,
     "metadata": {},
     "output_type": "execute_result"
    }
   ],
   "source": [
    "resultados_val"
   ]
  },
  {
   "cell_type": "markdown",
   "id": "f642121b-7f12-44c3-9698-f7b08af87d67",
   "metadata": {},
   "source": [
    "# Resultado com Dados de Teste"
   ]
  },
  {
   "cell_type": "code",
   "execution_count": 59,
   "id": "89632c53-695c-422a-a96e-72477a3b6707",
   "metadata": {},
   "outputs": [],
   "source": [
    "resultado_rmse = [0]*10\n",
    "resultado_mse = [0]*10\n",
    "resultado_mae=[0]*10\n",
    "resultado_mape = [0]*10\n",
    "resultado_r2=[0]*10"
   ]
  },
  {
   "cell_type": "markdown",
   "id": "335a031f-64e7-4649-95b8-94036cd0090f",
   "metadata": {
    "jp-MarkdownHeadingCollapsed": true
   },
   "source": [
    "### Linear Regression"
   ]
  },
  {
   "cell_type": "code",
   "execution_count": 61,
   "id": "4f5fe4df-ee93-44d6-ab0f-f988e4f003e4",
   "metadata": {},
   "outputs": [],
   "source": [
    "x_concat = np.concatenate((x_train, x_val), axis=0)\n",
    "y_concat =np.concatenate((y_train, y_val), axis=0)"
   ]
  },
  {
   "cell_type": "code",
   "execution_count": 62,
   "id": "c720cc63",
   "metadata": {},
   "outputs": [
    {
     "name": "stdout",
     "output_type": "stream",
     "text": [
      " R2: 0.0512 | MAE:17.1442 | MSE:461.9884 | RMSE:21.4939 | MAPE:8.5314\n"
     ]
    }
   ],
   "source": [
    "# define\n",
    "model = lr()\n",
    "\n",
    "# fit\n",
    "model.fit(x_concat, y_concat )\n",
    "\n",
    "# predict\n",
    "x = x_test.values\n",
    "y = y_test.values\n",
    "y_pred = model.predict(x)\n",
    "\n",
    "df1 = {}\n",
    "resultados_teste = tabela_performance(df1, 0, y, y_pred)"
   ]
  },
  {
   "cell_type": "markdown",
   "id": "14b3f842-eb83-4d9c-844d-d6e35f2bdd2e",
   "metadata": {
    "jp-MarkdownHeadingCollapsed": true
   },
   "source": [
    "### Decision Tree Regressor"
   ]
  },
  {
   "cell_type": "code",
   "execution_count": 64,
   "id": "fb865396",
   "metadata": {},
   "outputs": [
    {
     "name": "stdout",
     "output_type": "stream",
     "text": [
      " R2: 0.0905 | MAE:16.8298 | MSE:442.8484 | RMSE:21.044 | MAPE:8.7239\n"
     ]
    }
   ],
   "source": [
    "# define\n",
    "model = tree(max_depth = 5)\n",
    "\n",
    "# fit\n",
    "model.fit(x_concat, y_concat )\n",
    "\n",
    "# predict\n",
    "x = x_test.values\n",
    "y = y_test.values\n",
    "y_pred = model.predict(x)\n",
    "\n",
    "resultados_teste = tabela_performance(df1, 1, y, y_pred)\n"
   ]
  },
  {
   "cell_type": "markdown",
   "id": "6f3086a5-1665-48ad-b8ab-fb043b8108b5",
   "metadata": {
    "jp-MarkdownHeadingCollapsed": true
   },
   "source": [
    "### Random Forest Regressor"
   ]
  },
  {
   "cell_type": "code",
   "execution_count": 66,
   "id": "51672f91",
   "metadata": {},
   "outputs": [
    {
     "name": "stdout",
     "output_type": "stream",
     "text": [
      " R2: 0.3838 | MAE:12.8911 | MSE:300.0107 | RMSE:17.3208 | MAPE:6.4496\n"
     ]
    }
   ],
   "source": [
    "# define\n",
    "model = rf(n_estimators=60, max_depth=18)\n",
    "\n",
    "# fit\n",
    "model.fit(x_concat, y_concat.ravel() )\n",
    "\n",
    "# predict\n",
    "x = x_test.values\n",
    "y = y_test.values.ravel()\n",
    "y_pred = model.predict(x)\n",
    "\n",
    "resultados_teste = tabela_performance(df1, 2, y, y_pred)"
   ]
  },
  {
   "cell_type": "code",
   "execution_count": null,
   "id": "1db18281-e483-4575-b882-32665341bcb5",
   "metadata": {},
   "outputs": [],
   "source": []
  },
  {
   "cell_type": "markdown",
   "id": "1ccae5ce-9c08-438a-8afa-74f77cab5dcb",
   "metadata": {
    "jp-MarkdownHeadingCollapsed": true
   },
   "source": [
    "### Regressão Polinomial"
   ]
  },
  {
   "cell_type": "code",
   "execution_count": 68,
   "id": "65f7781e",
   "metadata": {},
   "outputs": [
    {
     "name": "stdout",
     "output_type": "stream",
     "text": [
      " R2: 0.0909 | MAE:16.7364 | MSE:442.6414 | RMSE:21.039 | MAPE:8.277\n"
     ]
    }
   ],
   "source": [
    "poly = pp.PolynomialFeatures(degree=2, include_bias=False)\n",
    "x_poly = poly.fit_transform(x_concat)\n",
    "\n",
    "x_con = x_poly\n",
    "y_con = y_concat\n",
    "\n",
    "# model training\n",
    "model = lm.LinearRegression()\n",
    "model.fit( x_con, y_con )\n",
    "\n",
    "x = x_test.values\n",
    "y = y_test.values\n",
    "# predict\n",
    "y_pred = model.predict( poly.fit_transform(x) )\n",
    "\n",
    "resultados_teste = tabela_performance(df1, 3, y, y_pred)"
   ]
  },
  {
   "cell_type": "markdown",
   "id": "1754befc-8cbf-49b2-a3f3-e979b55b5c7e",
   "metadata": {
    "jp-MarkdownHeadingCollapsed": true
   },
   "source": [
    "### Linear Regression Lasso"
   ]
  },
  {
   "cell_type": "code",
   "execution_count": 70,
   "id": "bb288d1f",
   "metadata": {},
   "outputs": [
    {
     "name": "stdout",
     "output_type": "stream",
     "text": [
      " R2: 0.0078 | MAE:17.4724 | MSE:483.0964 | RMSE:21.9795 | MAPE:8.7115\n"
     ]
    }
   ],
   "source": [
    "# definição modelo\n",
    "model = Lasso(alpha=1)\n",
    "\n",
    "# fit\n",
    "model.fit(x_concat, y_concat )\n",
    "\n",
    "# predict\n",
    "x = x_test.values\n",
    "y = y_test.values\n",
    "y_pred = model.predict(x)\n",
    "\n",
    "resultados_teste = tabela_performance(df1, 4, y, y_pred)"
   ]
  },
  {
   "cell_type": "markdown",
   "id": "5c2d17ae-01ff-4883-aef6-e059618466c8",
   "metadata": {},
   "source": [
    "### Linear Regression Ridge"
   ]
  },
  {
   "cell_type": "code",
   "execution_count": 73,
   "id": "dcf39259",
   "metadata": {},
   "outputs": [
    {
     "name": "stdout",
     "output_type": "stream",
     "text": [
      " R2: 0.0512 | MAE:17.144 | MSE:461.9878 | RMSE:21.4939 | MAPE:8.532\n"
     ]
    }
   ],
   "source": [
    "# definição modelo\n",
    "model = Ridge(alpha=1.0)\n",
    "\n",
    "# fit\n",
    "model.fit(x_concat, y_concat )\n",
    "\n",
    "# predict\n",
    "x = x_test.values\n",
    "y = y_test.values\n",
    "y_pred = model.predict(x)\n",
    "\n",
    "resultados_teste = tabela_performance(df1, 5, y, y_pred)"
   ]
  },
  {
   "cell_type": "markdown",
   "id": "8446adc4-fe5c-496d-a43c-d023e52b41a9",
   "metadata": {},
   "source": [
    "### Linear Regression Elastic Net"
   ]
  },
  {
   "cell_type": "code",
   "execution_count": 81,
   "id": "c62d8a79",
   "metadata": {},
   "outputs": [
    {
     "name": "stdout",
     "output_type": "stream",
     "text": [
      " R2: 0.0079 | MAE:17.4716 | MSE:483.0559 | RMSE:21.9785 | MAPE:8.7122\n"
     ]
    }
   ],
   "source": [
    "# define \n",
    "model = ElasticNet(alpha=1.0, l1_ratio=0.5)\n",
    "\n",
    "# fit\n",
    "model.fit(x_concat, y_concat )\n",
    "\n",
    "# predict\n",
    "x = x_test.values\n",
    "y = y_test.values\n",
    "y_pred = model.predict(x)\n",
    "\n",
    "resultados_teste = tabela_performance(df1, 6, y, y_pred)"
   ]
  },
  {
   "cell_type": "markdown",
   "id": "4ff588b8-c399-4d7a-9fda-5163c7dd70fe",
   "metadata": {},
   "source": [
    "### Regresão Polinomial Lasso"
   ]
  },
  {
   "cell_type": "code",
   "execution_count": 84,
   "id": "b5ef154b",
   "metadata": {},
   "outputs": [
    {
     "name": "stdout",
     "output_type": "stream",
     "text": [
      " R2: 0.0088 | MAE:17.4562 | MSE:482.6148 | RMSE:21.9685 | MAPE:8.7111\n"
     ]
    }
   ],
   "source": [
    "poly = pp.PolynomialFeatures(degree=2, include_bias=False)\n",
    "x_poly = poly.fit_transform(x_concat)\n",
    "\n",
    "x_con = x_poly\n",
    "y_con = y_concat\n",
    "\n",
    "# define\n",
    "model = lm.Lasso(alpha= 1.0)\n",
    "\n",
    "# train\n",
    "model.fit( x_con, y_con )\n",
    "\n",
    "x = x_test.values\n",
    "y = y_test.values\n",
    "# predict\n",
    "y_pred = model.predict( poly.fit_transform(x) )\n",
    "\n",
    "resultados_teste = tabela_performance(df1, 7, y_test, y_pred)"
   ]
  },
  {
   "cell_type": "markdown",
   "id": "28bb3fea-4c17-4f01-b512-afcbe1b79c04",
   "metadata": {},
   "source": [
    "### Regressão Polinomial Ridge"
   ]
  },
  {
   "cell_type": "code",
   "execution_count": 87,
   "id": "7743d437",
   "metadata": {},
   "outputs": [
    {
     "name": "stdout",
     "output_type": "stream",
     "text": [
      " R2: 0.0902 | MAE:16.7422 | MSE:442.9674 | RMSE:21.0468 | MAPE:8.3085\n"
     ]
    }
   ],
   "source": [
    "poly = pp.PolynomialFeatures(degree=2, include_bias=False)\n",
    "x_poly = poly.fit_transform(x_concat)\n",
    "\n",
    "x_con = x_poly\n",
    "y_con = y_concat\n",
    "\n",
    "# define\n",
    "model = lm.Ridge(alpha= 1.0)\n",
    "\n",
    "# train\n",
    "model.fit( x_con, y_con )\n",
    "\n",
    "x = x_test.values\n",
    "y = y_test.values\n",
    "# predict\n",
    "y_pred = model.predict( poly.fit_transform(x) )\n",
    "\n",
    "resultados_teste = tabela_performance(df1, 8, y_test, y_pred)"
   ]
  },
  {
   "cell_type": "markdown",
   "id": "57062b0c-908d-45f8-a415-58dc67339489",
   "metadata": {},
   "source": [
    "### Regressão Polinomial Elastic Net"
   ]
  },
  {
   "cell_type": "code",
   "execution_count": 90,
   "id": "83761ee2",
   "metadata": {},
   "outputs": [
    {
     "name": "stdout",
     "output_type": "stream",
     "text": [
      " R2: 0.011 | MAE:17.427 | MSE:481.5365 | RMSE:21.9439 | MAPE:8.7119\n"
     ]
    }
   ],
   "source": [
    "poly = pp.PolynomialFeatures(degree=2)\n",
    "x_poly = poly.fit_transform(x_concat)\n",
    "\n",
    "x_con = x_poly\n",
    "y_con = y_concat\n",
    "\n",
    "# define\n",
    "model = lm.ElasticNet(alpha= 1.0)\n",
    "\n",
    "# train\n",
    "model.fit( x_con, y_con )\n",
    "\n",
    "x = x_test.values\n",
    "y = y_test.values\n",
    "# predict\n",
    "y_pred = model.predict( poly.fit_transform(x) )\n",
    "\n",
    "resultados_teste = tabela_performance(df1, 9, y_test, y_pred)"
   ]
  },
  {
   "cell_type": "markdown",
   "id": "9268ff18-8b9b-4df5-b519-9677b3fb406d",
   "metadata": {},
   "source": [
    "## resultado"
   ]
  },
  {
   "cell_type": "code",
   "execution_count": 93,
   "id": "7c2bbd13-a843-4fac-8f6f-e96034bd62fe",
   "metadata": {},
   "outputs": [
    {
     "data": {
      "text/html": [
       "<div>\n",
       "<style scoped>\n",
       "    .dataframe tbody tr th:only-of-type {\n",
       "        vertical-align: middle;\n",
       "    }\n",
       "\n",
       "    .dataframe tbody tr th {\n",
       "        vertical-align: top;\n",
       "    }\n",
       "\n",
       "    .dataframe thead th {\n",
       "        text-align: right;\n",
       "    }\n",
       "</style>\n",
       "<table border=\"1\" class=\"dataframe\">\n",
       "  <thead>\n",
       "    <tr style=\"text-align: right;\">\n",
       "      <th></th>\n",
       "      <th>Algoritmo</th>\n",
       "      <th>MSE</th>\n",
       "      <th>RMSE</th>\n",
       "      <th>MAE</th>\n",
       "      <th>MAPE</th>\n",
       "      <th>R2</th>\n",
       "    </tr>\n",
       "  </thead>\n",
       "  <tbody>\n",
       "    <tr>\n",
       "      <th>0</th>\n",
       "      <td>Linear Regression</td>\n",
       "      <td>461.99</td>\n",
       "      <td>21.49</td>\n",
       "      <td>17.14</td>\n",
       "      <td>8.53</td>\n",
       "      <td>0.0512</td>\n",
       "    </tr>\n",
       "    <tr>\n",
       "      <th>1</th>\n",
       "      <td>Decision Tree Regressor</td>\n",
       "      <td>442.85</td>\n",
       "      <td>21.04</td>\n",
       "      <td>16.83</td>\n",
       "      <td>8.72</td>\n",
       "      <td>0.0905</td>\n",
       "    </tr>\n",
       "    <tr>\n",
       "      <th>2</th>\n",
       "      <td>Random Forest Regressor</td>\n",
       "      <td>300.01</td>\n",
       "      <td>17.32</td>\n",
       "      <td>12.89</td>\n",
       "      <td>6.45</td>\n",
       "      <td>0.3838</td>\n",
       "    </tr>\n",
       "    <tr>\n",
       "      <th>3</th>\n",
       "      <td>Polinomial Regression</td>\n",
       "      <td>442.64</td>\n",
       "      <td>21.04</td>\n",
       "      <td>16.74</td>\n",
       "      <td>8.28</td>\n",
       "      <td>0.0909</td>\n",
       "    </tr>\n",
       "    <tr>\n",
       "      <th>4</th>\n",
       "      <td>Linear Regression Lasso</td>\n",
       "      <td>483.10</td>\n",
       "      <td>21.98</td>\n",
       "      <td>17.47</td>\n",
       "      <td>8.71</td>\n",
       "      <td>0.0078</td>\n",
       "    </tr>\n",
       "    <tr>\n",
       "      <th>5</th>\n",
       "      <td>Linear Regression Ridge</td>\n",
       "      <td>461.99</td>\n",
       "      <td>21.49</td>\n",
       "      <td>17.14</td>\n",
       "      <td>8.53</td>\n",
       "      <td>0.0512</td>\n",
       "    </tr>\n",
       "    <tr>\n",
       "      <th>6</th>\n",
       "      <td>Linear Regression Elastic Net</td>\n",
       "      <td>483.06</td>\n",
       "      <td>21.98</td>\n",
       "      <td>17.47</td>\n",
       "      <td>8.71</td>\n",
       "      <td>0.0079</td>\n",
       "    </tr>\n",
       "    <tr>\n",
       "      <th>7</th>\n",
       "      <td>Polinomial Regression Lasso</td>\n",
       "      <td>482.61</td>\n",
       "      <td>21.97</td>\n",
       "      <td>17.46</td>\n",
       "      <td>8.71</td>\n",
       "      <td>0.0088</td>\n",
       "    </tr>\n",
       "    <tr>\n",
       "      <th>8</th>\n",
       "      <td>Polinomial Regression Ridge</td>\n",
       "      <td>442.97</td>\n",
       "      <td>21.05</td>\n",
       "      <td>16.74</td>\n",
       "      <td>8.31</td>\n",
       "      <td>0.0902</td>\n",
       "    </tr>\n",
       "    <tr>\n",
       "      <th>9</th>\n",
       "      <td>Polinomial Regression Elastic Net</td>\n",
       "      <td>481.54</td>\n",
       "      <td>21.94</td>\n",
       "      <td>17.43</td>\n",
       "      <td>8.71</td>\n",
       "      <td>0.0110</td>\n",
       "    </tr>\n",
       "  </tbody>\n",
       "</table>\n",
       "</div>"
      ],
      "text/plain": [
       "                           Algoritmo     MSE   RMSE    MAE  MAPE      R2\n",
       "0                  Linear Regression  461.99  21.49  17.14  8.53  0.0512\n",
       "1            Decision Tree Regressor  442.85  21.04  16.83  8.72  0.0905\n",
       "2            Random Forest Regressor  300.01  17.32  12.89  6.45  0.3838\n",
       "3              Polinomial Regression  442.64  21.04  16.74  8.28  0.0909\n",
       "4            Linear Regression Lasso  483.10  21.98  17.47  8.71  0.0078\n",
       "5            Linear Regression Ridge  461.99  21.49  17.14  8.53  0.0512\n",
       "6      Linear Regression Elastic Net  483.06  21.98  17.47  8.71  0.0079\n",
       "7        Polinomial Regression Lasso  482.61  21.97  17.46  8.71  0.0088\n",
       "8        Polinomial Regression Ridge  442.97  21.05  16.74  8.31  0.0902\n",
       "9  Polinomial Regression Elastic Net  481.54  21.94  17.43  8.71  0.0110"
      ]
     },
     "execution_count": 93,
     "metadata": {},
     "output_type": "execute_result"
    }
   ],
   "source": [
    "resultados_teste"
   ]
  },
  {
   "cell_type": "markdown",
   "id": "4171585c-569e-4d36-acea-0981b1b66dac",
   "metadata": {},
   "source": [
    "# Resultados Finais"
   ]
  },
  {
   "cell_type": "code",
   "execution_count": 96,
   "id": "4d8b8187-5008-4353-9926-872ebb1efdb4",
   "metadata": {},
   "outputs": [
    {
     "data": {
      "text/html": [
       "<div>\n",
       "<style scoped>\n",
       "    .dataframe tbody tr th:only-of-type {\n",
       "        vertical-align: middle;\n",
       "    }\n",
       "\n",
       "    .dataframe tbody tr th {\n",
       "        vertical-align: top;\n",
       "    }\n",
       "\n",
       "    .dataframe thead th {\n",
       "        text-align: right;\n",
       "    }\n",
       "</style>\n",
       "<table border=\"1\" class=\"dataframe\">\n",
       "  <thead>\n",
       "    <tr style=\"text-align: right;\">\n",
       "      <th></th>\n",
       "      <th>Algoritmo</th>\n",
       "      <th>MSE</th>\n",
       "      <th>RMSE</th>\n",
       "      <th>MAE</th>\n",
       "      <th>MAPE</th>\n",
       "      <th>R2</th>\n",
       "    </tr>\n",
       "  </thead>\n",
       "  <tbody>\n",
       "    <tr>\n",
       "      <th>0</th>\n",
       "      <td>Linear Regression</td>\n",
       "      <td>456.00</td>\n",
       "      <td>21.35</td>\n",
       "      <td>17.00</td>\n",
       "      <td>8.65</td>\n",
       "      <td>0.0461</td>\n",
       "    </tr>\n",
       "    <tr>\n",
       "      <th>1</th>\n",
       "      <td>Decision Tree Regressor</td>\n",
       "      <td>447.16</td>\n",
       "      <td>21.15</td>\n",
       "      <td>16.84</td>\n",
       "      <td>8.70</td>\n",
       "      <td>0.0636</td>\n",
       "    </tr>\n",
       "    <tr>\n",
       "      <th>2</th>\n",
       "      <td>Random Forest Regressor</td>\n",
       "      <td>68.23</td>\n",
       "      <td>8.26</td>\n",
       "      <td>6.20</td>\n",
       "      <td>8.87</td>\n",
       "      <td>0.8573</td>\n",
       "    </tr>\n",
       "    <tr>\n",
       "      <th>3</th>\n",
       "      <td>Polinomial Regression</td>\n",
       "      <td>432.99</td>\n",
       "      <td>20.81</td>\n",
       "      <td>16.46</td>\n",
       "      <td>8.35</td>\n",
       "      <td>0.0942</td>\n",
       "    </tr>\n",
       "    <tr>\n",
       "      <th>4</th>\n",
       "      <td>Linear Regression Lasso</td>\n",
       "      <td>474.47</td>\n",
       "      <td>21.78</td>\n",
       "      <td>17.31</td>\n",
       "      <td>8.74</td>\n",
       "      <td>0.0074</td>\n",
       "    </tr>\n",
       "    <tr>\n",
       "      <th>5</th>\n",
       "      <td>Linear Regression Ridge</td>\n",
       "      <td>456.00</td>\n",
       "      <td>21.35</td>\n",
       "      <td>17.00</td>\n",
       "      <td>8.65</td>\n",
       "      <td>0.0461</td>\n",
       "    </tr>\n",
       "    <tr>\n",
       "      <th>6</th>\n",
       "      <td>Linear Regression Elastic Net</td>\n",
       "      <td>474.27</td>\n",
       "      <td>21.78</td>\n",
       "      <td>17.30</td>\n",
       "      <td>8.74</td>\n",
       "      <td>0.0078</td>\n",
       "    </tr>\n",
       "    <tr>\n",
       "      <th>7</th>\n",
       "      <td>Polinomial Regression Lasso</td>\n",
       "      <td>473.64</td>\n",
       "      <td>21.76</td>\n",
       "      <td>17.29</td>\n",
       "      <td>8.74</td>\n",
       "      <td>0.0091</td>\n",
       "    </tr>\n",
       "    <tr>\n",
       "      <th>8</th>\n",
       "      <td>Polinomial Regression Ridge</td>\n",
       "      <td>433.48</td>\n",
       "      <td>20.82</td>\n",
       "      <td>16.47</td>\n",
       "      <td>8.37</td>\n",
       "      <td>0.0932</td>\n",
       "    </tr>\n",
       "    <tr>\n",
       "      <th>9</th>\n",
       "      <td>Polinomial Regression Elastic Net</td>\n",
       "      <td>471.88</td>\n",
       "      <td>21.72</td>\n",
       "      <td>17.24</td>\n",
       "      <td>8.74</td>\n",
       "      <td>0.0128</td>\n",
       "    </tr>\n",
       "  </tbody>\n",
       "</table>\n",
       "</div>"
      ],
      "text/plain": [
       "                           Algoritmo     MSE   RMSE    MAE  MAPE      R2\n",
       "0                  Linear Regression  456.00  21.35  17.00  8.65  0.0461\n",
       "1            Decision Tree Regressor  447.16  21.15  16.84  8.70  0.0636\n",
       "2            Random Forest Regressor   68.23   8.26   6.20  8.87  0.8573\n",
       "3              Polinomial Regression  432.99  20.81  16.46  8.35  0.0942\n",
       "4            Linear Regression Lasso  474.47  21.78  17.31  8.74  0.0074\n",
       "5            Linear Regression Ridge  456.00  21.35  17.00  8.65  0.0461\n",
       "6      Linear Regression Elastic Net  474.27  21.78  17.30  8.74  0.0078\n",
       "7        Polinomial Regression Lasso  473.64  21.76  17.29  8.74  0.0091\n",
       "8        Polinomial Regression Ridge  433.48  20.82  16.47  8.37  0.0932\n",
       "9  Polinomial Regression Elastic Net  471.88  21.72  17.24  8.74  0.0128"
      ]
     },
     "execution_count": 96,
     "metadata": {},
     "output_type": "execute_result"
    }
   ],
   "source": [
    "# Resultados com dados de treino\n",
    "resultados"
   ]
  },
  {
   "cell_type": "code",
   "execution_count": 98,
   "id": "b5a77504-b36d-40c2-bab4-bf41bcbcc81d",
   "metadata": {},
   "outputs": [
    {
     "data": {
      "text/html": [
       "<div>\n",
       "<style scoped>\n",
       "    .dataframe tbody tr th:only-of-type {\n",
       "        vertical-align: middle;\n",
       "    }\n",
       "\n",
       "    .dataframe tbody tr th {\n",
       "        vertical-align: top;\n",
       "    }\n",
       "\n",
       "    .dataframe thead th {\n",
       "        text-align: right;\n",
       "    }\n",
       "</style>\n",
       "<table border=\"1\" class=\"dataframe\">\n",
       "  <thead>\n",
       "    <tr style=\"text-align: right;\">\n",
       "      <th></th>\n",
       "      <th>Algoritmo</th>\n",
       "      <th>MSE</th>\n",
       "      <th>RMSE</th>\n",
       "      <th>MAE</th>\n",
       "      <th>MAPE</th>\n",
       "      <th>R2</th>\n",
       "    </tr>\n",
       "  </thead>\n",
       "  <tbody>\n",
       "    <tr>\n",
       "      <th>0</th>\n",
       "      <td>Linear Regression</td>\n",
       "      <td>458.45</td>\n",
       "      <td>21.41</td>\n",
       "      <td>17.04</td>\n",
       "      <td>8.68</td>\n",
       "      <td>0.0399</td>\n",
       "    </tr>\n",
       "    <tr>\n",
       "      <th>1</th>\n",
       "      <td>Decision Tree Regressor</td>\n",
       "      <td>447.16</td>\n",
       "      <td>21.15</td>\n",
       "      <td>16.84</td>\n",
       "      <td>8.70</td>\n",
       "      <td>0.0636</td>\n",
       "    </tr>\n",
       "    <tr>\n",
       "      <th>2</th>\n",
       "      <td>Random Forest Regressor</td>\n",
       "      <td>324.18</td>\n",
       "      <td>18.01</td>\n",
       "      <td>13.38</td>\n",
       "      <td>8.85</td>\n",
       "      <td>0.3211</td>\n",
       "    </tr>\n",
       "    <tr>\n",
       "      <th>3</th>\n",
       "      <td>Polinomial Regression</td>\n",
       "      <td>445.77</td>\n",
       "      <td>21.11</td>\n",
       "      <td>16.75</td>\n",
       "      <td>8.55</td>\n",
       "      <td>0.0665</td>\n",
       "    </tr>\n",
       "    <tr>\n",
       "      <th>4</th>\n",
       "      <td>Linear Regression Lasso</td>\n",
       "      <td>473.75</td>\n",
       "      <td>21.77</td>\n",
       "      <td>17.26</td>\n",
       "      <td>8.68</td>\n",
       "      <td>0.0079</td>\n",
       "    </tr>\n",
       "    <tr>\n",
       "      <th>5</th>\n",
       "      <td>Linear Regression Ridge</td>\n",
       "      <td>458.45</td>\n",
       "      <td>21.41</td>\n",
       "      <td>17.04</td>\n",
       "      <td>8.68</td>\n",
       "      <td>0.0399</td>\n",
       "    </tr>\n",
       "    <tr>\n",
       "      <th>6</th>\n",
       "      <td>Linear Regression Elastic Net</td>\n",
       "      <td>473.64</td>\n",
       "      <td>21.76</td>\n",
       "      <td>17.26</td>\n",
       "      <td>8.68</td>\n",
       "      <td>0.0081</td>\n",
       "    </tr>\n",
       "    <tr>\n",
       "      <th>7</th>\n",
       "      <td>Polinomial Regression Lasso</td>\n",
       "      <td>472.91</td>\n",
       "      <td>21.75</td>\n",
       "      <td>17.24</td>\n",
       "      <td>8.68</td>\n",
       "      <td>0.0096</td>\n",
       "    </tr>\n",
       "    <tr>\n",
       "      <th>8</th>\n",
       "      <td>Polinomial Regression Ridge</td>\n",
       "      <td>445.18</td>\n",
       "      <td>21.10</td>\n",
       "      <td>16.74</td>\n",
       "      <td>8.57</td>\n",
       "      <td>0.0677</td>\n",
       "    </tr>\n",
       "    <tr>\n",
       "      <th>9</th>\n",
       "      <td>Polinomial Regression Elastic Net</td>\n",
       "      <td>471.41</td>\n",
       "      <td>21.71</td>\n",
       "      <td>17.20</td>\n",
       "      <td>8.68</td>\n",
       "      <td>0.0128</td>\n",
       "    </tr>\n",
       "  </tbody>\n",
       "</table>\n",
       "</div>"
      ],
      "text/plain": [
       "                           Algoritmo     MSE   RMSE    MAE  MAPE      R2\n",
       "0                  Linear Regression  458.45  21.41  17.04  8.68  0.0399\n",
       "1            Decision Tree Regressor  447.16  21.15  16.84  8.70  0.0636\n",
       "2            Random Forest Regressor  324.18  18.01  13.38  8.85  0.3211\n",
       "3              Polinomial Regression  445.77  21.11  16.75  8.55  0.0665\n",
       "4            Linear Regression Lasso  473.75  21.77  17.26  8.68  0.0079\n",
       "5            Linear Regression Ridge  458.45  21.41  17.04  8.68  0.0399\n",
       "6      Linear Regression Elastic Net  473.64  21.76  17.26  8.68  0.0081\n",
       "7        Polinomial Regression Lasso  472.91  21.75  17.24  8.68  0.0096\n",
       "8        Polinomial Regression Ridge  445.18  21.10  16.74  8.57  0.0677\n",
       "9  Polinomial Regression Elastic Net  471.41  21.71  17.20  8.68  0.0128"
      ]
     },
     "execution_count": 98,
     "metadata": {},
     "output_type": "execute_result"
    }
   ],
   "source": [
    "resultados_val"
   ]
  },
  {
   "cell_type": "code",
   "execution_count": 100,
   "id": "14b397b0-7229-4048-ba2c-421ccda387c8",
   "metadata": {},
   "outputs": [
    {
     "data": {
      "text/html": [
       "<div>\n",
       "<style scoped>\n",
       "    .dataframe tbody tr th:only-of-type {\n",
       "        vertical-align: middle;\n",
       "    }\n",
       "\n",
       "    .dataframe tbody tr th {\n",
       "        vertical-align: top;\n",
       "    }\n",
       "\n",
       "    .dataframe thead th {\n",
       "        text-align: right;\n",
       "    }\n",
       "</style>\n",
       "<table border=\"1\" class=\"dataframe\">\n",
       "  <thead>\n",
       "    <tr style=\"text-align: right;\">\n",
       "      <th></th>\n",
       "      <th>Algoritmo</th>\n",
       "      <th>MSE</th>\n",
       "      <th>RMSE</th>\n",
       "      <th>MAE</th>\n",
       "      <th>MAPE</th>\n",
       "      <th>R2</th>\n",
       "    </tr>\n",
       "  </thead>\n",
       "  <tbody>\n",
       "    <tr>\n",
       "      <th>0</th>\n",
       "      <td>Linear Regression</td>\n",
       "      <td>461.99</td>\n",
       "      <td>21.49</td>\n",
       "      <td>17.14</td>\n",
       "      <td>8.53</td>\n",
       "      <td>0.0512</td>\n",
       "    </tr>\n",
       "    <tr>\n",
       "      <th>1</th>\n",
       "      <td>Decision Tree Regressor</td>\n",
       "      <td>442.85</td>\n",
       "      <td>21.04</td>\n",
       "      <td>16.83</td>\n",
       "      <td>8.72</td>\n",
       "      <td>0.0905</td>\n",
       "    </tr>\n",
       "    <tr>\n",
       "      <th>2</th>\n",
       "      <td>Random Forest Regressor</td>\n",
       "      <td>300.01</td>\n",
       "      <td>17.32</td>\n",
       "      <td>12.89</td>\n",
       "      <td>6.45</td>\n",
       "      <td>0.3838</td>\n",
       "    </tr>\n",
       "    <tr>\n",
       "      <th>3</th>\n",
       "      <td>Polinomial Regression</td>\n",
       "      <td>442.64</td>\n",
       "      <td>21.04</td>\n",
       "      <td>16.74</td>\n",
       "      <td>8.28</td>\n",
       "      <td>0.0909</td>\n",
       "    </tr>\n",
       "    <tr>\n",
       "      <th>4</th>\n",
       "      <td>Linear Regression Lasso</td>\n",
       "      <td>483.10</td>\n",
       "      <td>21.98</td>\n",
       "      <td>17.47</td>\n",
       "      <td>8.71</td>\n",
       "      <td>0.0078</td>\n",
       "    </tr>\n",
       "    <tr>\n",
       "      <th>5</th>\n",
       "      <td>Linear Regression Ridge</td>\n",
       "      <td>461.99</td>\n",
       "      <td>21.49</td>\n",
       "      <td>17.14</td>\n",
       "      <td>8.53</td>\n",
       "      <td>0.0512</td>\n",
       "    </tr>\n",
       "    <tr>\n",
       "      <th>6</th>\n",
       "      <td>Linear Regression Elastic Net</td>\n",
       "      <td>483.06</td>\n",
       "      <td>21.98</td>\n",
       "      <td>17.47</td>\n",
       "      <td>8.71</td>\n",
       "      <td>0.0079</td>\n",
       "    </tr>\n",
       "    <tr>\n",
       "      <th>7</th>\n",
       "      <td>Polinomial Regression Lasso</td>\n",
       "      <td>482.61</td>\n",
       "      <td>21.97</td>\n",
       "      <td>17.46</td>\n",
       "      <td>8.71</td>\n",
       "      <td>0.0088</td>\n",
       "    </tr>\n",
       "    <tr>\n",
       "      <th>8</th>\n",
       "      <td>Polinomial Regression Ridge</td>\n",
       "      <td>442.97</td>\n",
       "      <td>21.05</td>\n",
       "      <td>16.74</td>\n",
       "      <td>8.31</td>\n",
       "      <td>0.0902</td>\n",
       "    </tr>\n",
       "    <tr>\n",
       "      <th>9</th>\n",
       "      <td>Polinomial Regression Elastic Net</td>\n",
       "      <td>481.54</td>\n",
       "      <td>21.94</td>\n",
       "      <td>17.43</td>\n",
       "      <td>8.71</td>\n",
       "      <td>0.0110</td>\n",
       "    </tr>\n",
       "  </tbody>\n",
       "</table>\n",
       "</div>"
      ],
      "text/plain": [
       "                           Algoritmo     MSE   RMSE    MAE  MAPE      R2\n",
       "0                  Linear Regression  461.99  21.49  17.14  8.53  0.0512\n",
       "1            Decision Tree Regressor  442.85  21.04  16.83  8.72  0.0905\n",
       "2            Random Forest Regressor  300.01  17.32  12.89  6.45  0.3838\n",
       "3              Polinomial Regression  442.64  21.04  16.74  8.28  0.0909\n",
       "4            Linear Regression Lasso  483.10  21.98  17.47  8.71  0.0078\n",
       "5            Linear Regression Ridge  461.99  21.49  17.14  8.53  0.0512\n",
       "6      Linear Regression Elastic Net  483.06  21.98  17.47  8.71  0.0079\n",
       "7        Polinomial Regression Lasso  482.61  21.97  17.46  8.71  0.0088\n",
       "8        Polinomial Regression Ridge  442.97  21.05  16.74  8.31  0.0902\n",
       "9  Polinomial Regression Elastic Net  481.54  21.94  17.43  8.71  0.0110"
      ]
     },
     "execution_count": 100,
     "metadata": {},
     "output_type": "execute_result"
    }
   ],
   "source": [
    "resultados_teste"
   ]
  },
  {
   "cell_type": "code",
   "execution_count": null,
   "id": "f0a47424-f635-4227-90a4-6c8396c3bb52",
   "metadata": {},
   "outputs": [],
   "source": []
  }
 ],
 "metadata": {
  "kernelspec": {
   "display_name": "Python 3 (ipykernel)",
   "language": "python",
   "name": "python3"
  },
  "language_info": {
   "codemirror_mode": {
    "name": "ipython",
    "version": 3
   },
   "file_extension": ".py",
   "mimetype": "text/x-python",
   "name": "python",
   "nbconvert_exporter": "python",
   "pygments_lexer": "ipython3",
   "version": "3.12.4"
  }
 },
 "nbformat": 4,
 "nbformat_minor": 5
}
